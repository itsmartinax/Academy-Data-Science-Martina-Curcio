{
 "cells": [
  {
   "cell_type": "markdown",
   "metadata": {},
   "source": [
    "# **Esercizi Pandas**"
   ]
  },
  {
   "cell_type": "code",
   "execution_count": 25,
   "metadata": {},
   "outputs": [],
   "source": [
    "import pandas as pd\n",
    "import numpy as np"
   ]
  },
  {
   "cell_type": "markdown",
   "metadata": {},
   "source": [
    "## **Esercizio 1**\n",
    "Utilizzare un dataset di esempio che include le seguenti informazioni su un gruppo di persone: Nome, Età, Città e Salario."
   ]
  },
  {
   "cell_type": "markdown",
   "metadata": {},
   "source": [
    "1. Caricare i dati in un DataFrame autogenerandoli casualmente."
   ]
  },
  {
   "cell_type": "code",
   "execution_count": 2,
   "metadata": {},
   "outputs": [],
   "source": [
    "import random"
   ]
  },
  {
   "cell_type": "code",
   "execution_count": 26,
   "metadata": {},
   "outputs": [],
   "source": [
    "Base_nomi=['Martina','Giuseppe','Valeria','Sofia','Giulia','Francesco','Cristian','Mario','Valentina','Fabio',np.nan]\n",
    "Base_città=['Palermo','Cagliari','Catanzaro','Potenza','Bari','Campobasso', 'Ancona','Roma','Firenze','Bologna',np.nan]"
   ]
  },
  {
   "cell_type": "code",
   "execution_count": 27,
   "metadata": {},
   "outputs": [],
   "source": [
    "Nomi = random.choices(Base_nomi, k=100)\n",
    "Città = random.choices(Base_città, k=100)\n",
    "Età = [random.randint(16, 80) for _ in range(100)]\n",
    "Salario = [random.uniform(1000, 5000) for _ in range(100)]"
   ]
  },
  {
   "cell_type": "code",
   "execution_count": 28,
   "metadata": {},
   "outputs": [],
   "source": [
    "data = {'Nomi':Nomi,'Città':Città,'Età':Età,'Salario':Salario}"
   ]
  },
  {
   "cell_type": "code",
   "execution_count": 29,
   "metadata": {},
   "outputs": [],
   "source": [
    "df = pd.DataFrame(data)"
   ]
  },
  {
   "cell_type": "markdown",
   "metadata": {},
   "source": [
    "2. Visualizzare le prime e le ultime cinque righe del DataFrame."
   ]
  },
  {
   "cell_type": "code",
   "execution_count": 31,
   "metadata": {},
   "outputs": [
    {
     "name": "stdout",
     "output_type": "stream",
     "text": [
      "<class 'pandas.core.frame.DataFrame'>\n",
      "RangeIndex: 100 entries, 0 to 99\n",
      "Data columns (total 4 columns):\n",
      " #   Column   Non-Null Count  Dtype  \n",
      "---  ------   --------------  -----  \n",
      " 0   Nomi     90 non-null     object \n",
      " 1   Città    90 non-null     object \n",
      " 2   Età      100 non-null    int64  \n",
      " 3   Salario  100 non-null    float64\n",
      "dtypes: float64(1), int64(1), object(2)\n",
      "memory usage: 3.3+ KB\n"
     ]
    }
   ],
   "source": [
    "df.info()"
   ]
  },
  {
   "cell_type": "code",
   "execution_count": 19,
   "metadata": {},
   "outputs": [
    {
     "data": {
      "text/html": [
       "<div>\n",
       "<style scoped>\n",
       "    .dataframe tbody tr th:only-of-type {\n",
       "        vertical-align: middle;\n",
       "    }\n",
       "\n",
       "    .dataframe tbody tr th {\n",
       "        vertical-align: top;\n",
       "    }\n",
       "\n",
       "    .dataframe thead th {\n",
       "        text-align: right;\n",
       "    }\n",
       "</style>\n",
       "<table border=\"1\" class=\"dataframe\">\n",
       "  <thead>\n",
       "    <tr style=\"text-align: right;\">\n",
       "      <th></th>\n",
       "      <th>Nomi</th>\n",
       "      <th>Città</th>\n",
       "      <th>Età</th>\n",
       "      <th>Salario</th>\n",
       "    </tr>\n",
       "  </thead>\n",
       "  <tbody>\n",
       "    <tr>\n",
       "      <th>0</th>\n",
       "      <td>Martina</td>\n",
       "      <td>Ancona</td>\n",
       "      <td>37</td>\n",
       "      <td>1936.620376</td>\n",
       "    </tr>\n",
       "    <tr>\n",
       "      <th>1</th>\n",
       "      <td>Sofia</td>\n",
       "      <td>Potenza</td>\n",
       "      <td>43</td>\n",
       "      <td>1724.545994</td>\n",
       "    </tr>\n",
       "    <tr>\n",
       "      <th>2</th>\n",
       "      <td>Mario</td>\n",
       "      <td>Palermo</td>\n",
       "      <td>39</td>\n",
       "      <td>3629.581752</td>\n",
       "    </tr>\n",
       "    <tr>\n",
       "      <th>3</th>\n",
       "      <td>Fabio</td>\n",
       "      <td>Roma</td>\n",
       "      <td>32</td>\n",
       "      <td>3481.917033</td>\n",
       "    </tr>\n",
       "    <tr>\n",
       "      <th>4</th>\n",
       "      <td>Valentina</td>\n",
       "      <td>Ancona</td>\n",
       "      <td>24</td>\n",
       "      <td>4704.639401</td>\n",
       "    </tr>\n",
       "  </tbody>\n",
       "</table>\n",
       "</div>"
      ],
      "text/plain": [
       "        Nomi    Città  Età      Salario\n",
       "0    Martina   Ancona   37  1936.620376\n",
       "1      Sofia  Potenza   43  1724.545994\n",
       "2      Mario  Palermo   39  3629.581752\n",
       "3      Fabio     Roma   32  3481.917033\n",
       "4  Valentina   Ancona   24  4704.639401"
      ]
     },
     "execution_count": 19,
     "metadata": {},
     "output_type": "execute_result"
    }
   ],
   "source": [
    "df.head(5)"
   ]
  },
  {
   "cell_type": "code",
   "execution_count": 20,
   "metadata": {},
   "outputs": [
    {
     "data": {
      "text/html": [
       "<div>\n",
       "<style scoped>\n",
       "    .dataframe tbody tr th:only-of-type {\n",
       "        vertical-align: middle;\n",
       "    }\n",
       "\n",
       "    .dataframe tbody tr th {\n",
       "        vertical-align: top;\n",
       "    }\n",
       "\n",
       "    .dataframe thead th {\n",
       "        text-align: right;\n",
       "    }\n",
       "</style>\n",
       "<table border=\"1\" class=\"dataframe\">\n",
       "  <thead>\n",
       "    <tr style=\"text-align: right;\">\n",
       "      <th></th>\n",
       "      <th>Nomi</th>\n",
       "      <th>Città</th>\n",
       "      <th>Età</th>\n",
       "      <th>Salario</th>\n",
       "    </tr>\n",
       "  </thead>\n",
       "  <tbody>\n",
       "    <tr>\n",
       "      <th>95</th>\n",
       "      <td>Giulia</td>\n",
       "      <td>Firenze</td>\n",
       "      <td>71</td>\n",
       "      <td>2679.447983</td>\n",
       "    </tr>\n",
       "    <tr>\n",
       "      <th>96</th>\n",
       "      <td>Cristian</td>\n",
       "      <td>Firenze</td>\n",
       "      <td>19</td>\n",
       "      <td>2080.480635</td>\n",
       "    </tr>\n",
       "    <tr>\n",
       "      <th>97</th>\n",
       "      <td>Valentina</td>\n",
       "      <td>Palermo</td>\n",
       "      <td>60</td>\n",
       "      <td>2460.261682</td>\n",
       "    </tr>\n",
       "    <tr>\n",
       "      <th>98</th>\n",
       "      <td>Fabio</td>\n",
       "      <td>Bari</td>\n",
       "      <td>48</td>\n",
       "      <td>1066.634160</td>\n",
       "    </tr>\n",
       "    <tr>\n",
       "      <th>99</th>\n",
       "      <td>Francesco</td>\n",
       "      <td>Ancona</td>\n",
       "      <td>32</td>\n",
       "      <td>2677.114031</td>\n",
       "    </tr>\n",
       "  </tbody>\n",
       "</table>\n",
       "</div>"
      ],
      "text/plain": [
       "         Nomi    Città  Età      Salario\n",
       "95     Giulia  Firenze   71  2679.447983\n",
       "96   Cristian  Firenze   19  2080.480635\n",
       "97  Valentina  Palermo   60  2460.261682\n",
       "98      Fabio     Bari   48  1066.634160\n",
       "99  Francesco   Ancona   32  2677.114031"
      ]
     },
     "execution_count": 20,
     "metadata": {},
     "output_type": "execute_result"
    }
   ],
   "source": [
    "df.tail(5)"
   ]
  },
  {
   "cell_type": "markdown",
   "metadata": {},
   "source": [
    "3. Visualizzare il tipo di dati di ciascuna colonna."
   ]
  },
  {
   "cell_type": "code",
   "execution_count": 17,
   "metadata": {},
   "outputs": [
    {
     "data": {
      "text/plain": [
       "Nomi        object\n",
       "Città       object\n",
       "Età          int64\n",
       "Salario    float64\n",
       "dtype: object"
      ]
     },
     "execution_count": 17,
     "metadata": {},
     "output_type": "execute_result"
    }
   ],
   "source": [
    "df.dtypes"
   ]
  },
  {
   "cell_type": "markdown",
   "metadata": {},
   "source": [
    "4. Calcolare statistiche descrittive di base per le colonne numeriche (media, mediana, deviazione standard)."
   ]
  },
  {
   "cell_type": "code",
   "execution_count": 21,
   "metadata": {},
   "outputs": [
    {
     "name": "stdout",
     "output_type": "stream",
     "text": [
      "Media Età: 48.17 \n",
      "Mediana Età: 48.0 \n",
      "Deviazione Standard Età: 16.341095867212033\n",
      "Media Salario: 2896.1790981560816 \n",
      "Mediana Salario: 2747.606185780204 \n",
      "Deviazione Standard Salario: 1122.7899194161448\n"
     ]
    }
   ],
   "source": [
    "print(\"Media Età:\",df['Età'].mean(),\"\\nMediana Età:\",df['Età'].median(),\"\\nDeviazione Standard Età:\",df['Età'].std())\n",
    "print(\"Media Salario:\",df['Salario'].mean(),\"\\nMediana Salario:\",df['Salario'].median(),\"\\nDeviazione Standard Salario:\",df['Salario'].std())"
   ]
  },
  {
   "cell_type": "markdown",
   "metadata": {},
   "source": [
    "5. Identificare e rimuovere eventuali duplicati."
   ]
  },
  {
   "cell_type": "code",
   "execution_count": 24,
   "metadata": {},
   "outputs": [
    {
     "name": "stdout",
     "output_type": "stream",
     "text": [
      "0     False\n",
      "1     False\n",
      "2     False\n",
      "3     False\n",
      "4     False\n",
      "      ...  \n",
      "95    False\n",
      "96    False\n",
      "97    False\n",
      "98    False\n",
      "99    False\n",
      "Length: 100, dtype: bool\n"
     ]
    }
   ],
   "source": [
    "duplicati = df.duplicated()\n",
    "print(duplicati)"
   ]
  },
  {
   "cell_type": "code",
   "execution_count": 22,
   "metadata": {},
   "outputs": [],
   "source": [
    "df = df.drop_duplicates()"
   ]
  },
  {
   "cell_type": "markdown",
   "metadata": {},
   "source": [
    "6. Gestire i valori mancanti sostituendoli con la mediana della rispettiva\n",
    "colonna."
   ]
  },
  {
   "cell_type": "code",
   "execution_count": null,
   "metadata": {},
   "outputs": [],
   "source": [
    "    \n",
    "    df['Nome'].fillna(df['Età'].mean(), inplace=True)"
   ]
  }
 ],
 "metadata": {
  "kernelspec": {
   "display_name": "Python 3",
   "language": "python",
   "name": "python3"
  },
  "language_info": {
   "codemirror_mode": {
    "name": "ipython",
    "version": 3
   },
   "file_extension": ".py",
   "mimetype": "text/x-python",
   "name": "python",
   "nbconvert_exporter": "python",
   "pygments_lexer": "ipython3",
   "version": "3.11.2"
  }
 },
 "nbformat": 4,
 "nbformat_minor": 2
}
