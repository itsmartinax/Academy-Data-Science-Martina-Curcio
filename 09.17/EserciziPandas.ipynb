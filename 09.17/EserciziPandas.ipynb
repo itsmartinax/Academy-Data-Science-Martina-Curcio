{
 "cells": [
  {
   "cell_type": "markdown",
   "metadata": {},
   "source": [
    "# **Esercizi Pandas**"
   ]
  },
  {
   "cell_type": "code",
   "execution_count": 25,
   "metadata": {},
   "outputs": [],
   "source": [
    "import pandas as pd\n",
    "import numpy as np"
   ]
  },
  {
   "cell_type": "markdown",
   "metadata": {},
   "source": [
    "## **Esercizio 1**\n",
    "Utilizzare un dataset di esempio che include le seguenti informazioni su un gruppo di persone: Nome, Età, Città e Salario."
   ]
  },
  {
   "cell_type": "markdown",
   "metadata": {},
   "source": [
    "1. Caricare i dati in un DataFrame autogenerandoli casualmente."
   ]
  },
  {
   "cell_type": "code",
   "execution_count": 2,
   "metadata": {},
   "outputs": [],
   "source": [
    "import random"
   ]
  },
  {
   "cell_type": "code",
   "execution_count": 26,
   "metadata": {},
   "outputs": [],
   "source": [
    "Base_nomi=['Martina','Giuseppe','Valeria','Sofia','Giulia','Francesco','Cristian','Mario','Valentina','Fabio',np.nan]\n",
    "Base_città=['Palermo','Cagliari','Catanzaro','Potenza','Bari','Campobasso', 'Ancona','Roma','Firenze','Bologna',np.nan]"
   ]
  },
  {
   "cell_type": "code",
   "execution_count": 27,
   "metadata": {},
   "outputs": [],
   "source": [
    "Nomi = random.choices(Base_nomi, k=100)\n",
    "Città = random.choices(Base_città, k=100)\n",
    "Età = [random.randint(16, 80) for _ in range(100)]\n",
    "Salario = [random.uniform(1000, 5000) for _ in range(100)]"
   ]
  },
  {
   "cell_type": "code",
   "execution_count": 28,
   "metadata": {},
   "outputs": [],
   "source": [
    "data = {'Nomi':Nomi,'Città':Città,'Età':Età,'Salario':Salario}"
   ]
  },
  {
   "cell_type": "code",
   "execution_count": 29,
   "metadata": {},
   "outputs": [],
   "source": [
    "df = pd.DataFrame(data)"
   ]
  },
  {
   "cell_type": "code",
   "execution_count": 49,
   "metadata": {},
   "outputs": [],
   "source": [
    "df['Età'].replace(50, np.nan, inplace=True)\n",
    "df['Età'].replace(30, np.nan, inplace=True)\n",
    "df['Età'].replace(60, np.nan, inplace=True)"
   ]
  },
  {
   "cell_type": "markdown",
   "metadata": {},
   "source": [
    "2. Visualizzare le prime e le ultime cinque righe del DataFrame."
   ]
  },
  {
   "cell_type": "code",
   "execution_count": 48,
   "metadata": {},
   "outputs": [
    {
     "name": "stdout",
     "output_type": "stream",
     "text": [
      "<class 'pandas.core.frame.DataFrame'>\n",
      "RangeIndex: 100 entries, 0 to 99\n",
      "Data columns (total 4 columns):\n",
      " #   Column   Non-Null Count  Dtype  \n",
      "---  ------   --------------  -----  \n",
      " 0   Nomi     90 non-null     object \n",
      " 1   Città    90 non-null     object \n",
      " 2   Età      97 non-null     float64\n",
      " 3   Salario  100 non-null    float64\n",
      "dtypes: float64(2), object(2)\n",
      "memory usage: 3.3+ KB\n"
     ]
    }
   ],
   "source": [
    "df.info()"
   ]
  },
  {
   "cell_type": "code",
   "execution_count": 19,
   "metadata": {},
   "outputs": [
    {
     "data": {
      "text/html": [
       "<div>\n",
       "<style scoped>\n",
       "    .dataframe tbody tr th:only-of-type {\n",
       "        vertical-align: middle;\n",
       "    }\n",
       "\n",
       "    .dataframe tbody tr th {\n",
       "        vertical-align: top;\n",
       "    }\n",
       "\n",
       "    .dataframe thead th {\n",
       "        text-align: right;\n",
       "    }\n",
       "</style>\n",
       "<table border=\"1\" class=\"dataframe\">\n",
       "  <thead>\n",
       "    <tr style=\"text-align: right;\">\n",
       "      <th></th>\n",
       "      <th>Nomi</th>\n",
       "      <th>Città</th>\n",
       "      <th>Età</th>\n",
       "      <th>Salario</th>\n",
       "    </tr>\n",
       "  </thead>\n",
       "  <tbody>\n",
       "    <tr>\n",
       "      <th>0</th>\n",
       "      <td>Martina</td>\n",
       "      <td>Ancona</td>\n",
       "      <td>37</td>\n",
       "      <td>1936.620376</td>\n",
       "    </tr>\n",
       "    <tr>\n",
       "      <th>1</th>\n",
       "      <td>Sofia</td>\n",
       "      <td>Potenza</td>\n",
       "      <td>43</td>\n",
       "      <td>1724.545994</td>\n",
       "    </tr>\n",
       "    <tr>\n",
       "      <th>2</th>\n",
       "      <td>Mario</td>\n",
       "      <td>Palermo</td>\n",
       "      <td>39</td>\n",
       "      <td>3629.581752</td>\n",
       "    </tr>\n",
       "    <tr>\n",
       "      <th>3</th>\n",
       "      <td>Fabio</td>\n",
       "      <td>Roma</td>\n",
       "      <td>32</td>\n",
       "      <td>3481.917033</td>\n",
       "    </tr>\n",
       "    <tr>\n",
       "      <th>4</th>\n",
       "      <td>Valentina</td>\n",
       "      <td>Ancona</td>\n",
       "      <td>24</td>\n",
       "      <td>4704.639401</td>\n",
       "    </tr>\n",
       "  </tbody>\n",
       "</table>\n",
       "</div>"
      ],
      "text/plain": [
       "        Nomi    Città  Età      Salario\n",
       "0    Martina   Ancona   37  1936.620376\n",
       "1      Sofia  Potenza   43  1724.545994\n",
       "2      Mario  Palermo   39  3629.581752\n",
       "3      Fabio     Roma   32  3481.917033\n",
       "4  Valentina   Ancona   24  4704.639401"
      ]
     },
     "execution_count": 19,
     "metadata": {},
     "output_type": "execute_result"
    }
   ],
   "source": [
    "df.head(5)"
   ]
  },
  {
   "cell_type": "code",
   "execution_count": 20,
   "metadata": {},
   "outputs": [
    {
     "data": {
      "text/html": [
       "<div>\n",
       "<style scoped>\n",
       "    .dataframe tbody tr th:only-of-type {\n",
       "        vertical-align: middle;\n",
       "    }\n",
       "\n",
       "    .dataframe tbody tr th {\n",
       "        vertical-align: top;\n",
       "    }\n",
       "\n",
       "    .dataframe thead th {\n",
       "        text-align: right;\n",
       "    }\n",
       "</style>\n",
       "<table border=\"1\" class=\"dataframe\">\n",
       "  <thead>\n",
       "    <tr style=\"text-align: right;\">\n",
       "      <th></th>\n",
       "      <th>Nomi</th>\n",
       "      <th>Città</th>\n",
       "      <th>Età</th>\n",
       "      <th>Salario</th>\n",
       "    </tr>\n",
       "  </thead>\n",
       "  <tbody>\n",
       "    <tr>\n",
       "      <th>95</th>\n",
       "      <td>Giulia</td>\n",
       "      <td>Firenze</td>\n",
       "      <td>71</td>\n",
       "      <td>2679.447983</td>\n",
       "    </tr>\n",
       "    <tr>\n",
       "      <th>96</th>\n",
       "      <td>Cristian</td>\n",
       "      <td>Firenze</td>\n",
       "      <td>19</td>\n",
       "      <td>2080.480635</td>\n",
       "    </tr>\n",
       "    <tr>\n",
       "      <th>97</th>\n",
       "      <td>Valentina</td>\n",
       "      <td>Palermo</td>\n",
       "      <td>60</td>\n",
       "      <td>2460.261682</td>\n",
       "    </tr>\n",
       "    <tr>\n",
       "      <th>98</th>\n",
       "      <td>Fabio</td>\n",
       "      <td>Bari</td>\n",
       "      <td>48</td>\n",
       "      <td>1066.634160</td>\n",
       "    </tr>\n",
       "    <tr>\n",
       "      <th>99</th>\n",
       "      <td>Francesco</td>\n",
       "      <td>Ancona</td>\n",
       "      <td>32</td>\n",
       "      <td>2677.114031</td>\n",
       "    </tr>\n",
       "  </tbody>\n",
       "</table>\n",
       "</div>"
      ],
      "text/plain": [
       "         Nomi    Città  Età      Salario\n",
       "95     Giulia  Firenze   71  2679.447983\n",
       "96   Cristian  Firenze   19  2080.480635\n",
       "97  Valentina  Palermo   60  2460.261682\n",
       "98      Fabio     Bari   48  1066.634160\n",
       "99  Francesco   Ancona   32  2677.114031"
      ]
     },
     "execution_count": 20,
     "metadata": {},
     "output_type": "execute_result"
    }
   ],
   "source": [
    "df.tail(5)"
   ]
  },
  {
   "cell_type": "markdown",
   "metadata": {},
   "source": [
    "3. Visualizzare il tipo di dati di ciascuna colonna."
   ]
  },
  {
   "cell_type": "code",
   "execution_count": 17,
   "metadata": {},
   "outputs": [
    {
     "data": {
      "text/plain": [
       "Nomi        object\n",
       "Città       object\n",
       "Età          int64\n",
       "Salario    float64\n",
       "dtype: object"
      ]
     },
     "execution_count": 17,
     "metadata": {},
     "output_type": "execute_result"
    }
   ],
   "source": [
    "df.dtypes"
   ]
  },
  {
   "cell_type": "markdown",
   "metadata": {},
   "source": [
    "4. Calcolare statistiche descrittive di base per le colonne numeriche (media, mediana, deviazione standard)."
   ]
  },
  {
   "cell_type": "code",
   "execution_count": 21,
   "metadata": {},
   "outputs": [
    {
     "name": "stdout",
     "output_type": "stream",
     "text": [
      "Media Età: 48.17 \n",
      "Mediana Età: 48.0 \n",
      "Deviazione Standard Età: 16.341095867212033\n",
      "Media Salario: 2896.1790981560816 \n",
      "Mediana Salario: 2747.606185780204 \n",
      "Deviazione Standard Salario: 1122.7899194161448\n"
     ]
    }
   ],
   "source": [
    "print(\"Media Età:\",df['Età'].mean(),\"\\nMediana Età:\",df['Età'].median(),\"\\nDeviazione Standard Età:\",df['Età'].std())\n",
    "print(\"Media Salario:\",df['Salario'].mean(),\"\\nMediana Salario:\",df['Salario'].median(),\"\\nDeviazione Standard Salario:\",df['Salario'].std())"
   ]
  },
  {
   "cell_type": "markdown",
   "metadata": {},
   "source": [
    "5. Identificare e rimuovere eventuali duplicati."
   ]
  },
  {
   "cell_type": "code",
   "execution_count": 24,
   "metadata": {},
   "outputs": [
    {
     "name": "stdout",
     "output_type": "stream",
     "text": [
      "0     False\n",
      "1     False\n",
      "2     False\n",
      "3     False\n",
      "4     False\n",
      "      ...  \n",
      "95    False\n",
      "96    False\n",
      "97    False\n",
      "98    False\n",
      "99    False\n",
      "Length: 100, dtype: bool\n"
     ]
    }
   ],
   "source": [
    "duplicati = df.duplicated()\n",
    "print(duplicati)"
   ]
  },
  {
   "cell_type": "code",
   "execution_count": 22,
   "metadata": {},
   "outputs": [],
   "source": [
    "df = df.drop_duplicates()"
   ]
  },
  {
   "cell_type": "markdown",
   "metadata": {},
   "source": [
    "6. Gestire i valori mancanti sostituendoli con la mediana della rispettiva\n",
    "colonna."
   ]
  },
  {
   "cell_type": "code",
   "execution_count": 52,
   "metadata": {},
   "outputs": [],
   "source": [
    "df['Nomi'].fillna(df['Nomi'].mode()[0], inplace=True)\n",
    "df['Età'].fillna(df['Età'].median(), inplace=True)\n",
    "df['Città'].fillna(df['Città'].mode()[0], inplace=True)\n",
    "df['Salario'].fillna(df['Salario'].median(), inplace=True)"
   ]
  },
  {
   "cell_type": "code",
   "execution_count": 53,
   "metadata": {},
   "outputs": [
    {
     "name": "stdout",
     "output_type": "stream",
     "text": [
      "<class 'pandas.core.frame.DataFrame'>\n",
      "RangeIndex: 100 entries, 0 to 99\n",
      "Data columns (total 4 columns):\n",
      " #   Column   Non-Null Count  Dtype  \n",
      "---  ------   --------------  -----  \n",
      " 0   Nomi     100 non-null    object \n",
      " 1   Città    100 non-null    object \n",
      " 2   Età      100 non-null    float64\n",
      " 3   Salario  100 non-null    float64\n",
      "dtypes: float64(2), object(2)\n",
      "memory usage: 3.3+ KB\n"
     ]
    }
   ],
   "source": [
    "df.info()"
   ]
  },
  {
   "cell_type": "markdown",
   "metadata": {},
   "source": [
    "7. Aggiungere una nuova colonna chiamata \"Categoria Età\" che classifica le persone come \"Giovane\", \"Adulto\" o \"Senior\" basandosi sull'età (es., 0-18 anni: Giovane, 19-65 anni: Adulto, oltre 65 anni: Senior)."
   ]
  },
  {
   "cell_type": "code",
   "execution_count": 54,
   "metadata": {},
   "outputs": [],
   "source": [
    "df[\"Categoria Età\"]=df['Età'].apply(lambda x: 'Giovane' if x < 18 else ('Adulto' if x < 65 else 'Senior'))"
   ]
  },
  {
   "cell_type": "code",
   "execution_count": 56,
   "metadata": {},
   "outputs": [
    {
     "data": {
      "text/html": [
       "<div>\n",
       "<style scoped>\n",
       "    .dataframe tbody tr th:only-of-type {\n",
       "        vertical-align: middle;\n",
       "    }\n",
       "\n",
       "    .dataframe tbody tr th {\n",
       "        vertical-align: top;\n",
       "    }\n",
       "\n",
       "    .dataframe thead th {\n",
       "        text-align: right;\n",
       "    }\n",
       "</style>\n",
       "<table border=\"1\" class=\"dataframe\">\n",
       "  <thead>\n",
       "    <tr style=\"text-align: right;\">\n",
       "      <th></th>\n",
       "      <th>Nomi</th>\n",
       "      <th>Città</th>\n",
       "      <th>Età</th>\n",
       "      <th>Salario</th>\n",
       "      <th>Categoria Età</th>\n",
       "    </tr>\n",
       "  </thead>\n",
       "  <tbody>\n",
       "    <tr>\n",
       "      <th>0</th>\n",
       "      <td>Valeria</td>\n",
       "      <td>Potenza</td>\n",
       "      <td>67.0</td>\n",
       "      <td>1749.495838</td>\n",
       "      <td>Senior</td>\n",
       "    </tr>\n",
       "    <tr>\n",
       "      <th>1</th>\n",
       "      <td>Fabio</td>\n",
       "      <td>Campobasso</td>\n",
       "      <td>77.0</td>\n",
       "      <td>1961.028835</td>\n",
       "      <td>Senior</td>\n",
       "    </tr>\n",
       "    <tr>\n",
       "      <th>2</th>\n",
       "      <td>Mario</td>\n",
       "      <td>Potenza</td>\n",
       "      <td>20.0</td>\n",
       "      <td>2895.441627</td>\n",
       "      <td>Adulto</td>\n",
       "    </tr>\n",
       "    <tr>\n",
       "      <th>3</th>\n",
       "      <td>Mario</td>\n",
       "      <td>Ancona</td>\n",
       "      <td>44.0</td>\n",
       "      <td>4438.823794</td>\n",
       "      <td>Adulto</td>\n",
       "    </tr>\n",
       "    <tr>\n",
       "      <th>4</th>\n",
       "      <td>Francesco</td>\n",
       "      <td>Potenza</td>\n",
       "      <td>21.0</td>\n",
       "      <td>4015.388200</td>\n",
       "      <td>Adulto</td>\n",
       "    </tr>\n",
       "  </tbody>\n",
       "</table>\n",
       "</div>"
      ],
      "text/plain": [
       "        Nomi       Città   Età      Salario Categoria Età\n",
       "0    Valeria     Potenza  67.0  1749.495838        Senior\n",
       "1      Fabio  Campobasso  77.0  1961.028835        Senior\n",
       "2      Mario     Potenza  20.0  2895.441627        Adulto\n",
       "3      Mario      Ancona  44.0  4438.823794        Adulto\n",
       "4  Francesco     Potenza  21.0  4015.388200        Adulto"
      ]
     },
     "execution_count": 56,
     "metadata": {},
     "output_type": "execute_result"
    }
   ],
   "source": [
    "df.head()"
   ]
  },
  {
   "cell_type": "markdown",
   "metadata": {},
   "source": [
    "8. Salvare il DataFrame pulito in un nuovo file CSV."
   ]
  },
  {
   "cell_type": "code",
   "execution_count": 58,
   "metadata": {},
   "outputs": [],
   "source": [
    "df.to_csv('data.csv', index=False)"
   ]
  },
  {
   "cell_type": "markdown",
   "metadata": {},
   "source": [
    "## **Esercizio 2**\n",
    "\n",
    "Generare un DataFrame di vendite che include i seguenti campi: \"Data\", \"Città\", \"Prodotto\" e \"Vendite\". I dati devono essere generati per un periodo di un mese, con vendite registrate per tre diverse città e tre tipi di prodotti.\n"
   ]
  },
  {
   "cell_type": "markdown",
   "metadata": {},
   "source": [
    "1. Generazione dei Dati: utilizzare numpy per creare un set di dati\n",
    "casuali."
   ]
  },
  {
   "cell_type": "code",
   "execution_count": 61,
   "metadata": {},
   "outputs": [],
   "source": [
    "base_città=['Roma','Milano','Cosenza','Torino']\n",
    "base_prodotti=['TV','Laptop','Lavatrice']"
   ]
  },
  {
   "cell_type": "code",
   "execution_count": 66,
   "metadata": {},
   "outputs": [],
   "source": [
    "Città = random.choices(base_città, k=15)\n",
    "Prodotti = random.choices(base_prodotti, k=15)\n",
    "Vendite = [random.randint(0,500) for _ in range(15)]\n",
    "Date = pd.date_range(start='2023-01-01', periods=15, freq='D')\n"
   ]
  },
  {
   "cell_type": "code",
   "execution_count": 69,
   "metadata": {},
   "outputs": [
    {
     "name": "stdout",
     "output_type": "stream",
     "text": [
      "         Date    Città   Prodotti  Vendite\n",
      "0  2023-01-01   Milano     Laptop       93\n",
      "1  2023-01-02   Milano  Lavatrice      242\n",
      "2  2023-01-03   Torino     Laptop      278\n",
      "3  2023-01-04  Cosenza  Lavatrice      315\n",
      "4  2023-01-05  Cosenza         TV      342\n",
      "5  2023-01-06   Milano  Lavatrice      236\n",
      "6  2023-01-07     Roma     Laptop      396\n",
      "7  2023-01-08     Roma  Lavatrice      289\n",
      "8  2023-01-09     Roma  Lavatrice      384\n",
      "9  2023-01-10     Roma     Laptop      237\n",
      "10 2023-01-11     Roma         TV      290\n",
      "11 2023-01-12     Roma  Lavatrice      388\n",
      "12 2023-01-13     Roma     Laptop      161\n",
      "13 2023-01-14   Milano  Lavatrice      156\n",
      "14 2023-01-15   Milano  Lavatrice      111\n"
     ]
    }
   ],
   "source": [
    "dati = {\n",
    "    'Date':Date,\n",
    "    'Città':Città,\n",
    "    'Prodotti':Prodotti,\n",
    "    'Vendite':Vendite\n",
    "}\n",
    "\n",
    "df=pd.DataFrame(dati)\n",
    "print(df)"
   ]
  },
  {
   "cell_type": "markdown",
   "metadata": {},
   "source": [
    "2. Creazione della Tabella Pivot: Creare una tabella pivot per analizzare le vendite medie di ciascun prodotto per città."
   ]
  },
  {
   "cell_type": "code",
   "execution_count": 71,
   "metadata": {},
   "outputs": [
    {
     "name": "stdout",
     "output_type": "stream",
     "text": [
      "Città      Cosenza  Milano        Roma  Torino\n",
      "Prodotti                                      \n",
      "Laptop         NaN   93.00  264.666667   278.0\n",
      "Lavatrice    315.0  186.25  353.666667     NaN\n",
      "TV           342.0     NaN  290.000000     NaN\n"
     ]
    }
   ],
   "source": [
    "pivot_df = df.pivot_table(values='Vendite', index='Prodotti', columns='Città', aggfunc='mean')\n",
    "print(pivot_df)"
   ]
  },
  {
   "cell_type": "markdown",
   "metadata": {},
   "source": [
    "3. Applicazione di GroupBy: Utilizzare il metodo groupby per calcolare le vendite totali per ogni prodotto."
   ]
  },
  {
   "cell_type": "code",
   "execution_count": 76,
   "metadata": {},
   "outputs": [
    {
     "name": "stdout",
     "output_type": "stream",
     "text": [
      "           Vendite\n",
      "Prodotti          \n",
      "Laptop        1165\n",
      "Lavatrice     2121\n",
      "TV             632\n"
     ]
    },
    {
     "name": "stderr",
     "output_type": "stream",
     "text": [
      "C:\\Users\\curci\\AppData\\Local\\Temp\\ipykernel_6248\\3396723241.py:1: FutureWarning: The default value of numeric_only in DataFrameGroupBy.sum is deprecated. In a future version, numeric_only will default to False. Either specify numeric_only or select only columns which should be valid for the function.\n",
      "  grouped_df = df.groupby('Prodotti').sum()\n"
     ]
    }
   ],
   "source": [
    "grouped_df = df.groupby('Prodotti').sum()\n",
    "print(grouped_df)"
   ]
  }
 ],
 "metadata": {
  "kernelspec": {
   "display_name": "Python 3",
   "language": "python",
   "name": "python3"
  },
  "language_info": {
   "codemirror_mode": {
    "name": "ipython",
    "version": 3
   },
   "file_extension": ".py",
   "mimetype": "text/x-python",
   "name": "python",
   "nbconvert_exporter": "python",
   "pygments_lexer": "ipython3",
   "version": "3.11.2"
  }
 },
 "nbformat": 4,
 "nbformat_minor": 2
}
