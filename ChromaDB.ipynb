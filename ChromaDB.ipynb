{
 "cells": [
  {
   "cell_type": "markdown",
   "metadata": {},
   "source": [
    "# **Chroma DB**"
   ]
  },
  {
   "cell_type": "markdown",
   "metadata": {},
   "source": [
    "Archivio astratto che ci permette di salvare oggetti con persistenza.\n",
    "\n",
    "* Vantaggi: automazzione dell'ai\n",
    "\n",
    "* Svantaggi: complessità computazionale"
   ]
  },
  {
   "cell_type": "code",
   "execution_count": 2,
   "metadata": {},
   "outputs": [],
   "source": [
    "import chromadb"
   ]
  },
  {
   "cell_type": "markdown",
   "metadata": {},
   "source": [
    "Il client gestirà il database salvandolo localmente e caricandolo all'avvio se esistente."
   ]
  },
  {
   "cell_type": "code",
   "execution_count": 4,
   "metadata": {},
   "outputs": [],
   "source": [
    "client=chromadb.PersistentClient(path=\"09.26/ChromaDBpath\")"
   ]
  },
  {
   "cell_type": "markdown",
   "metadata": {},
   "source": [
    "* `client.heartbeat()`: controlla la connettività del client"
   ]
  },
  {
   "cell_type": "code",
   "execution_count": 5,
   "metadata": {},
   "outputs": [
    {
     "data": {
      "text/plain": [
       "1727361686965023100"
      ]
     },
     "execution_count": 5,
     "metadata": {},
     "output_type": "execute_result"
    }
   ],
   "source": [
    "client.heartbeat()"
   ]
  },
  {
   "cell_type": "markdown",
   "metadata": {},
   "source": [
    "* `client.reset()`: resetta completamente il database"
   ]
  },
  {
   "cell_type": "markdown",
   "metadata": {},
   "source": [
    "* **client**: entità che interagisce con il database\n",
    "* **server**: componente che gestisce il database e risponde alle richieste dei client."
   ]
  },
  {
   "cell_type": "markdown",
   "metadata": {},
   "source": [
    "* **HTTP Client**: client che comunica con il server tramite protocollo HTTP\n",
    "\n",
    "* **Asincrono**: tipo di operazione che non blocca l'esecuzione del programma mentre attende la risposta del server."
   ]
  },
  {
   "cell_type": "markdown",
   "metadata": {},
   "source": [
    "chroma_client=chromadb.HttpClient(host='localhost', port=8000)"
   ]
  },
  {
   "cell_type": "markdown",
   "metadata": {},
   "source": [
    "* **Client HTTP asincrono**: per operazioni non bloccanti, utilizzare AsyncHttpClient"
   ]
  },
  {
   "cell_type": "markdown",
   "metadata": {},
   "source": []
  }
 ],
 "metadata": {
  "kernelspec": {
   "display_name": "Python 3",
   "language": "python",
   "name": "python3"
  },
  "language_info": {
   "codemirror_mode": {
    "name": "ipython",
    "version": 3
   },
   "file_extension": ".py",
   "mimetype": "text/x-python",
   "name": "python",
   "nbconvert_exporter": "python",
   "pygments_lexer": "ipython3",
   "version": "3.11.2"
  }
 },
 "nbformat": 4,
 "nbformat_minor": 2
}
