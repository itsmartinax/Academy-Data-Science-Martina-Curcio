{
 "cells": [
  {
   "cell_type": "markdown",
   "metadata": {},
   "source": [
    "# **Esercizio Numpy-Pandas-Matplotlib**\n",
    "\n",
    "Aiuto di internet"
   ]
  },
  {
   "cell_type": "markdown",
   "metadata": {},
   "source": [
    "L'obiettivo di questo esercizio è generare un set di dati di serie temporali utilizzando NumPy, analizzarli con pandas e visualizzare i risultati usando Matplotlib.\n",
    "\n",
    "Gli studenti dovranno eseguire le seguenti operazioni:"
   ]
  },
  {
   "cell_type": "markdown",
   "metadata": {},
   "source": [
    "1. **Generazione dei Dati**: Utilizzare NumPy per generare una serie temporale di 365 giorni di dati, simulando il numero di visitatori giornalieri in un parco. Assumere che il numero medio di visitatori sia 2000 con una deviazione standard di 500. Inoltre, aggiungere un trend crescente nel tempo per simulare l'aumento della popolarità del parco."
   ]
  },
  {
   "cell_type": "code",
   "execution_count": 2,
   "metadata": {},
   "outputs": [],
   "source": [
    "import numpy as np"
   ]
  },
  {
   "cell_type": "code",
   "execution_count": 3,
   "metadata": {},
   "outputs": [],
   "source": [
    "visitatori_invernali = np.random.normal(1800,300,(1,90))"
   ]
  },
  {
   "cell_type": "code",
   "execution_count": 4,
   "metadata": {},
   "outputs": [],
   "source": [
    "visitatori_primaverili=np.random.normal(2200,300,(1,91))"
   ]
  },
  {
   "cell_type": "code",
   "execution_count": 5,
   "metadata": {},
   "outputs": [],
   "source": [
    "visitatori_estivi=np.random.normal(2200,300,(1,92))"
   ]
  },
  {
   "cell_type": "code",
   "execution_count": 6,
   "metadata": {},
   "outputs": [],
   "source": [
    "visitatori_autunnali = np.random.normal(2000,200,(1,92))"
   ]
  },
  {
   "cell_type": "code",
   "execution_count": 7,
   "metadata": {},
   "outputs": [],
   "source": [
    "visitatori=np.concatenate((visitatori_invernali,visitatori_primaverili, visitatori_estivi,visitatori_autunnali),axis=1)\n",
    "visitatori = visitatori.astype(int)\n",
    "visitatori=visitatori.flatten()"
   ]
  },
  {
   "cell_type": "code",
   "execution_count": 8,
   "metadata": {},
   "outputs": [
    {
     "data": {
      "text/plain": [
       "array([1659, 2432, 2233, 1718, 2071, 1649, 1516, 1964, 2030, 1228, 1854,\n",
       "       1965, 1590, 1320, 1449, 1521, 2001, 1712, 2200, 1350, 2302, 1901,\n",
       "       1504, 1458, 1593, 2104, 1527, 1329, 1681, 1474, 1246, 1840, 2176,\n",
       "       1993, 1745, 1135, 2046, 1555, 1686, 1878, 1797, 1445, 1959, 1220,\n",
       "       1694, 1828, 1266, 2009, 1694, 1566, 1545, 1579, 1848, 1874, 1666,\n",
       "       2007, 1678, 2109, 1959, 1802, 1453, 1972, 1917, 1474, 1997, 2161,\n",
       "       1838, 1779, 1794, 1681, 2357, 2147, 1862, 1832, 1649, 1601, 1703,\n",
       "       2533, 1280, 1766, 1782, 2170, 1970, 1916, 1458, 1208, 1738, 1831,\n",
       "       1542, 1813, 2325, 2057, 2217, 2522, 2266, 2189, 2074, 2641, 1965,\n",
       "       2244, 2667, 2440, 2059, 2627, 2388, 2241, 2040, 1783, 1654, 2163,\n",
       "       2519, 1636, 2460, 2015, 2456, 2602, 2381, 2558, 2373, 2238, 2944,\n",
       "       2009, 2206, 1907, 2431, 2032, 2474, 1689, 1797, 1704, 2072, 2193,\n",
       "       1959, 1717, 2241, 2302, 1882, 2195, 2317, 1700, 2344, 2870, 1893,\n",
       "       1634, 2115, 1876, 1793, 2144, 2431, 2013, 2086, 2345, 2810, 1768,\n",
       "       2095, 2455, 2250, 3108, 2656, 2038, 2301, 2002, 2778, 2296, 2414,\n",
       "       1912, 2438, 2325, 2155, 1907, 2231, 2420, 2766, 2442, 2140, 2029,\n",
       "       2520, 2477, 2209, 2806, 1728, 2087, 2461, 2501, 1842, 2052, 2387,\n",
       "       2523, 2705, 2142, 2158, 2430, 2360, 2644, 1760, 2211, 2257, 2464,\n",
       "       2061, 2228, 2211, 2225, 2683, 2463, 1956, 2002, 1907, 2442, 1993,\n",
       "       2347, 2154, 1967, 1898, 2519, 2432, 2432, 2214, 2551, 2136, 1800,\n",
       "       2120, 2010, 2131, 1604, 2381, 2287, 2136, 2117, 2763, 2292, 1532,\n",
       "       2501, 2277, 1880, 2311, 1855, 1381, 1941, 2290, 2004, 1893, 1942,\n",
       "       2078, 2165, 2252, 2460, 1663, 1963, 2326, 1967, 2076, 2710, 2433,\n",
       "       1902, 2083, 2543, 2147, 2454, 2410, 2502, 2424, 2590, 2134, 2148,\n",
       "       2149, 1804, 2550, 2206, 1965, 2313, 2052, 2650, 2610, 2177, 1833,\n",
       "       2569, 2251, 1871, 1890, 1999, 2215, 1843, 2208, 1894, 2039, 1950,\n",
       "       2027, 2094, 2145, 1852, 2072, 2139, 1922, 2143, 1970, 1924, 2053,\n",
       "       2064, 2128, 1935, 1961, 2300, 2136, 2070, 2327, 1687, 1834, 2393,\n",
       "       2145, 2117, 2005, 1560, 2151, 2079, 2246, 1752, 2149, 2168, 2179,\n",
       "       1875, 1715, 2266, 2011, 1536, 1915, 1872, 1844, 1952, 1761, 1736,\n",
       "       1925, 1959, 1696, 1822, 2233, 2454, 1679, 2116, 2152, 2138, 1952,\n",
       "       1959, 1833, 2052, 1630, 2155, 2104, 1820, 2890, 2077, 1961, 2289,\n",
       "       2283, 1874, 1705, 2081, 1963, 2051, 2113, 1997, 2209, 2017, 1849,\n",
       "       1898, 2406])"
      ]
     },
     "execution_count": 8,
     "metadata": {},
     "output_type": "execute_result"
    }
   ],
   "source": [
    "visitatori"
   ]
  },
  {
   "cell_type": "markdown",
   "metadata": {},
   "source": [
    "2. **Creazione del DataFrame**: Creare un DataFrame pandas con le date come indice e il numero di visitatori come colonna."
   ]
  },
  {
   "cell_type": "code",
   "execution_count": 9,
   "metadata": {},
   "outputs": [],
   "source": [
    "import pandas as pd"
   ]
  },
  {
   "cell_type": "code",
   "execution_count": 10,
   "metadata": {},
   "outputs": [],
   "source": [
    "dati={\n",
    "    'Data': pd.date_range('2023-01-01', '2023-12-31'),\n",
    "    'Visitatori': visitatori\n",
    "}"
   ]
  },
  {
   "cell_type": "code",
   "execution_count": 11,
   "metadata": {},
   "outputs": [],
   "source": [
    "dataframe=pd.DataFrame(dati)"
   ]
  },
  {
   "cell_type": "code",
   "execution_count": 12,
   "metadata": {},
   "outputs": [
    {
     "data": {
      "text/html": [
       "<div>\n",
       "<style scoped>\n",
       "    .dataframe tbody tr th:only-of-type {\n",
       "        vertical-align: middle;\n",
       "    }\n",
       "\n",
       "    .dataframe tbody tr th {\n",
       "        vertical-align: top;\n",
       "    }\n",
       "\n",
       "    .dataframe thead th {\n",
       "        text-align: right;\n",
       "    }\n",
       "</style>\n",
       "<table border=\"1\" class=\"dataframe\">\n",
       "  <thead>\n",
       "    <tr style=\"text-align: right;\">\n",
       "      <th></th>\n",
       "      <th>Data</th>\n",
       "      <th>Visitatori</th>\n",
       "    </tr>\n",
       "  </thead>\n",
       "  <tbody>\n",
       "    <tr>\n",
       "      <th>0</th>\n",
       "      <td>2023-01-01</td>\n",
       "      <td>1659</td>\n",
       "    </tr>\n",
       "    <tr>\n",
       "      <th>1</th>\n",
       "      <td>2023-01-02</td>\n",
       "      <td>2432</td>\n",
       "    </tr>\n",
       "    <tr>\n",
       "      <th>2</th>\n",
       "      <td>2023-01-03</td>\n",
       "      <td>2233</td>\n",
       "    </tr>\n",
       "    <tr>\n",
       "      <th>3</th>\n",
       "      <td>2023-01-04</td>\n",
       "      <td>1718</td>\n",
       "    </tr>\n",
       "    <tr>\n",
       "      <th>4</th>\n",
       "      <td>2023-01-05</td>\n",
       "      <td>2071</td>\n",
       "    </tr>\n",
       "    <tr>\n",
       "      <th>...</th>\n",
       "      <td>...</td>\n",
       "      <td>...</td>\n",
       "    </tr>\n",
       "    <tr>\n",
       "      <th>360</th>\n",
       "      <td>2023-12-27</td>\n",
       "      <td>2209</td>\n",
       "    </tr>\n",
       "    <tr>\n",
       "      <th>361</th>\n",
       "      <td>2023-12-28</td>\n",
       "      <td>2017</td>\n",
       "    </tr>\n",
       "    <tr>\n",
       "      <th>362</th>\n",
       "      <td>2023-12-29</td>\n",
       "      <td>1849</td>\n",
       "    </tr>\n",
       "    <tr>\n",
       "      <th>363</th>\n",
       "      <td>2023-12-30</td>\n",
       "      <td>1898</td>\n",
       "    </tr>\n",
       "    <tr>\n",
       "      <th>364</th>\n",
       "      <td>2023-12-31</td>\n",
       "      <td>2406</td>\n",
       "    </tr>\n",
       "  </tbody>\n",
       "</table>\n",
       "<p>365 rows × 2 columns</p>\n",
       "</div>"
      ],
      "text/plain": [
       "          Data  Visitatori\n",
       "0   2023-01-01        1659\n",
       "1   2023-01-02        2432\n",
       "2   2023-01-03        2233\n",
       "3   2023-01-04        1718\n",
       "4   2023-01-05        2071\n",
       "..         ...         ...\n",
       "360 2023-12-27        2209\n",
       "361 2023-12-28        2017\n",
       "362 2023-12-29        1849\n",
       "363 2023-12-30        1898\n",
       "364 2023-12-31        2406\n",
       "\n",
       "[365 rows x 2 columns]"
      ]
     },
     "execution_count": 12,
     "metadata": {},
     "output_type": "execute_result"
    }
   ],
   "source": [
    "dataframe"
   ]
  },
  {
   "cell_type": "markdown",
   "metadata": {},
   "source": [
    "3. **Analisi dei Dati**: Calcolare il numero medio di visitatori per mese e la\n",
    "deviazione standard."
   ]
  },
  {
   "cell_type": "code",
   "execution_count": 13,
   "metadata": {},
   "outputs": [],
   "source": [
    "dataframe['Mese'] = dataframe['Data'].dt.month\n",
    "valori={}\n",
    "for i in range(1,13):\n",
    "    dataframe_mese = dataframe[dataframe['Mese'] == i]\n",
    "    media = dataframe_mese['Visitatori'].mean()\n",
    "    std = dataframe_mese['Visitatori'].std()\n",
    "    valori[i] = {'Media': media, 'Deviazione Standard': std}"
   ]
  },
  {
   "cell_type": "code",
   "execution_count": 14,
   "metadata": {},
   "outputs": [
    {
     "data": {
      "text/plain": [
       "{1: {'Media': 1728.4193548387098, 'Deviazione Standard': 330.68915657996695},\n",
       " 2: {'Media': 1742.75, 'Deviazione Standard': 264.29397563235443},\n",
       " 3: {'Media': 1807.2903225806451, 'Deviazione Standard': 287.99620293195846},\n",
       " 4: {'Media': 2260.0, 'Deviazione Standard': 279.103243782037},\n",
       " 5: {'Media': 2095.8064516129034, 'Deviazione Standard': 322.3271029409761},\n",
       " 6: {'Media': 2327.366666666667, 'Deviazione Standard': 329.1690146868096},\n",
       " 7: {'Media': 2245.9032258064517, 'Deviazione Standard': 250.6868371546074},\n",
       " 8: {'Media': 2119.6129032258063, 'Deviazione Standard': 311.1034851855948},\n",
       " 9: {'Media': 2255.0333333333333, 'Deviazione Standard': 269.078566059513},\n",
       " 10: {'Media': 2054.0, 'Deviazione Standard': 159.82907536907462},\n",
       " 11: {'Media': 1955.9, 'Deviazione Standard': 226.05466992102473},\n",
       " 12: {'Media': 2062.5806451612902, 'Deviazione Standard': 249.5157675970997}}"
      ]
     },
     "execution_count": 14,
     "metadata": {},
     "output_type": "execute_result"
    }
   ],
   "source": [
    "valori"
   ]
  },
  {
   "cell_type": "code",
   "execution_count": 15,
   "metadata": {},
   "outputs": [],
   "source": [
    "dataframe = dataframe.drop('Mese', axis=1)"
   ]
  }
 ],
 "metadata": {
  "kernelspec": {
   "display_name": "Python 3",
   "language": "python",
   "name": "python3"
  },
  "language_info": {
   "codemirror_mode": {
    "name": "ipython",
    "version": 3
   },
   "file_extension": ".py",
   "mimetype": "text/x-python",
   "name": "python",
   "nbconvert_exporter": "python",
   "pygments_lexer": "ipython3",
   "version": "3.11.2"
  }
 },
 "nbformat": 4,
 "nbformat_minor": 2
}
