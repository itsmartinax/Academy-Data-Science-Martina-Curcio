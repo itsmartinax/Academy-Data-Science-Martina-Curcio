{
 "cells": [
  {
   "cell_type": "markdown",
   "metadata": {},
   "source": [
    "# **Esercizio Numpy-Pandas-Matplotlib**\n",
    "\n",
    "Aiuto di internet"
   ]
  },
  {
   "cell_type": "markdown",
   "metadata": {},
   "source": [
    "L'obiettivo di questo esercizio è generare un set di dati di serie temporali utilizzando NumPy, analizzarli con pandas e visualizzare i risultati usando Matplotlib.\n",
    "\n",
    "Gli studenti dovranno eseguire le seguenti operazioni:"
   ]
  },
  {
   "cell_type": "markdown",
   "metadata": {},
   "source": [
    "1. **Generazione dei Dati**: Utilizzare NumPy per generare una serie temporale di 365 giorni di dati, simulando il numero di visitatori giornalieri in un parco. Assumere che il numero medio di visitatori sia 2000 con una deviazione standard di 500. Inoltre, aggiungere un trend crescente nel tempo per simulare l'aumento della popolarità del parco.\n"
   ]
  },
  {
   "cell_type": "code",
   "execution_count": 13,
   "metadata": {},
   "outputs": [],
   "source": [
    "import numpy as np"
   ]
  },
  {
   "cell_type": "code",
   "execution_count": 14,
   "metadata": {},
   "outputs": [],
   "source": [
    "visitatori_invernali = np.random.normal(1800,300,(1,90))"
   ]
  },
  {
   "cell_type": "code",
   "execution_count": 15,
   "metadata": {},
   "outputs": [],
   "source": [
    "visitatori_primaverili=np.random.normal(2200,300,(1,91))"
   ]
  },
  {
   "cell_type": "code",
   "execution_count": 16,
   "metadata": {},
   "outputs": [],
   "source": [
    "visitatori_estivi=np.random.normal(2200,300,(1,92))"
   ]
  },
  {
   "cell_type": "code",
   "execution_count": 17,
   "metadata": {},
   "outputs": [],
   "source": [
    "visitatori_autunnali = np.random.normal(2000,200,(1,92))"
   ]
  },
  {
   "cell_type": "code",
   "execution_count": 19,
   "metadata": {},
   "outputs": [],
   "source": [
    "visitatori=np.concatenate((visitatori_invernali,visitatori_primaverili, visitatori_estivi,visitatori_autunnali),axis=1)\n",
    "visitatori = visitatori.astype(int)\n",
    "visitatori=visitatori.flatten()"
   ]
  },
  {
   "cell_type": "code",
   "execution_count": 39,
   "metadata": {},
   "outputs": [
    {
     "data": {
      "text/plain": [
       "array([1799, 1721, 1695, 2020, 2240, 1975, 2024, 1748, 1985, 1794, 1765,\n",
       "       2147, 1831, 1891, 1464, 2214, 2281, 1427, 1838, 1581, 2460, 1690,\n",
       "       2000, 1471, 1774, 1902, 2114, 1486, 1951, 1924, 1422, 1831, 1877,\n",
       "       2422, 2364, 1767, 1245, 1747, 2044, 1317, 2074, 1715, 1736, 2053,\n",
       "       1783, 1757, 1422, 1586, 1913, 2010, 1952, 1795, 1657, 1847, 1648,\n",
       "       2182, 1521, 1743, 2184, 2014, 1556, 1309, 1403, 1784, 1716, 2030,\n",
       "       1911, 1640, 1624, 1699, 1486, 1885, 1437, 1511, 1358, 1999, 1728,\n",
       "       2267, 1806, 2111, 1963, 2061, 1663, 1711, 1836, 1519, 2092, 1971,\n",
       "       2362, 1741, 1757, 2546, 1897, 2186, 1850, 2303, 1992, 1904, 2173,\n",
       "       2628, 2147, 2701, 2313, 1960, 2836, 2220, 2346, 1883, 2302, 2534,\n",
       "       2528, 2189, 2421, 2887, 2138, 2042, 2080, 2652, 2503, 2430, 2444,\n",
       "       2194, 2365, 1776, 2343, 2283, 2279, 2092, 2067, 2311, 2035, 2231,\n",
       "       1975, 2343, 2415, 2598, 2060, 1685, 2540, 2291, 2632, 2023, 2186,\n",
       "       2006, 1980, 2108, 2325, 2313, 2389, 2418, 2475, 1892, 1868, 2223,\n",
       "       2583, 2414, 2660, 2221, 2356, 1918, 1846, 2092, 2429, 1736, 2291,\n",
       "       2129, 2284, 2275, 2795, 3030, 2641, 1895, 2031, 2121, 2572, 2569,\n",
       "       1825, 2074, 2276, 2040, 2030, 2204, 2073, 2212, 2567, 1746, 2359,\n",
       "       1946, 2773, 1868, 1347, 2512, 2324, 1953, 2738, 1525, 1859, 2267,\n",
       "       2089, 2093, 2697, 2463, 1751, 1472, 2034, 1794, 2462, 3024, 2288,\n",
       "       2375, 2562, 2913, 1841, 2355, 1835, 1900, 2275, 1610, 2337, 2231,\n",
       "       2156, 2311, 2653, 2142, 1950, 2440, 2316, 2257, 1984, 2583, 2402,\n",
       "       1798, 2521, 2068, 2369, 2005, 2383, 1904, 2411, 1886, 1992, 2186,\n",
       "       2508, 2550, 2111, 2420, 1705, 2621, 1882, 2781, 2231, 1693, 2330,\n",
       "       2133, 1930, 2304, 1964, 1984, 2456, 2117, 1805, 2521, 2590, 1927,\n",
       "       2638, 3048, 2049, 1871, 2237, 2323, 1976, 2692, 2663, 1951, 2006,\n",
       "       2003, 1983, 1973, 2295, 1844, 1987, 1861, 1801, 2174, 2151, 2091,\n",
       "       2206, 1769, 2092, 2204, 1971, 1592, 2118, 2134, 1993, 1990, 2289,\n",
       "       2022, 1564, 1906, 1909, 2265, 2048, 1847, 2182, 2199, 2456, 2019,\n",
       "       1953, 1945, 1900, 1770, 1952, 2036, 2128, 1813, 2120, 2054, 1948,\n",
       "       1737, 2081, 2134, 2097, 2136, 2035, 2059, 1867, 2027, 2132, 2172,\n",
       "       2196, 1894, 1850, 1985, 1821, 2214, 2121, 2237, 1728, 2150, 2083,\n",
       "       1724, 1706, 1728, 1713, 2089, 2019, 2120, 2019, 1984, 1917, 1802,\n",
       "       1837, 1859, 1820, 1659, 2105, 1947, 1965, 2052, 2001, 1883, 2061,\n",
       "       1883, 2030])"
      ]
     },
     "execution_count": 39,
     "metadata": {},
     "output_type": "execute_result"
    }
   ],
   "source": [
    "visitatori"
   ]
  },
  {
   "cell_type": "markdown",
   "metadata": {},
   "source": [
    "2. **Creazione del DataFrame**: Creare un DataFrame pandas con le date come indice e il numero di visitatori come colonna."
   ]
  },
  {
   "cell_type": "code",
   "execution_count": 20,
   "metadata": {},
   "outputs": [],
   "source": [
    "import pandas as pd"
   ]
  },
  {
   "cell_type": "code",
   "execution_count": 21,
   "metadata": {},
   "outputs": [],
   "source": [
    "dati={\n",
    "    'Data': pd.date_range('2023-01-01', '2023-12-31'),\n",
    "    'Visitatori': visitatori\n",
    "}"
   ]
  },
  {
   "cell_type": "code",
   "execution_count": 22,
   "metadata": {},
   "outputs": [],
   "source": [
    "dataframe=pd.DataFrame(dati)"
   ]
  },
  {
   "cell_type": "code",
   "execution_count": 23,
   "metadata": {},
   "outputs": [
    {
     "data": {
      "text/html": [
       "<div>\n",
       "<style scoped>\n",
       "    .dataframe tbody tr th:only-of-type {\n",
       "        vertical-align: middle;\n",
       "    }\n",
       "\n",
       "    .dataframe tbody tr th {\n",
       "        vertical-align: top;\n",
       "    }\n",
       "\n",
       "    .dataframe thead th {\n",
       "        text-align: right;\n",
       "    }\n",
       "</style>\n",
       "<table border=\"1\" class=\"dataframe\">\n",
       "  <thead>\n",
       "    <tr style=\"text-align: right;\">\n",
       "      <th></th>\n",
       "      <th>Data</th>\n",
       "      <th>Visitatori</th>\n",
       "    </tr>\n",
       "  </thead>\n",
       "  <tbody>\n",
       "    <tr>\n",
       "      <th>0</th>\n",
       "      <td>2023-01-01</td>\n",
       "      <td>1925</td>\n",
       "    </tr>\n",
       "    <tr>\n",
       "      <th>1</th>\n",
       "      <td>2023-01-02</td>\n",
       "      <td>2434</td>\n",
       "    </tr>\n",
       "    <tr>\n",
       "      <th>2</th>\n",
       "      <td>2023-01-03</td>\n",
       "      <td>1631</td>\n",
       "    </tr>\n",
       "    <tr>\n",
       "      <th>3</th>\n",
       "      <td>2023-01-04</td>\n",
       "      <td>2229</td>\n",
       "    </tr>\n",
       "    <tr>\n",
       "      <th>4</th>\n",
       "      <td>2023-01-05</td>\n",
       "      <td>2291</td>\n",
       "    </tr>\n",
       "    <tr>\n",
       "      <th>...</th>\n",
       "      <td>...</td>\n",
       "      <td>...</td>\n",
       "    </tr>\n",
       "    <tr>\n",
       "      <th>360</th>\n",
       "      <td>2023-12-27</td>\n",
       "      <td>1779</td>\n",
       "    </tr>\n",
       "    <tr>\n",
       "      <th>361</th>\n",
       "      <td>2023-12-28</td>\n",
       "      <td>2069</td>\n",
       "    </tr>\n",
       "    <tr>\n",
       "      <th>362</th>\n",
       "      <td>2023-12-29</td>\n",
       "      <td>1828</td>\n",
       "    </tr>\n",
       "    <tr>\n",
       "      <th>363</th>\n",
       "      <td>2023-12-30</td>\n",
       "      <td>1976</td>\n",
       "    </tr>\n",
       "    <tr>\n",
       "      <th>364</th>\n",
       "      <td>2023-12-31</td>\n",
       "      <td>2099</td>\n",
       "    </tr>\n",
       "  </tbody>\n",
       "</table>\n",
       "<p>365 rows × 2 columns</p>\n",
       "</div>"
      ],
      "text/plain": [
       "          Data  Visitatori\n",
       "0   2023-01-01        1925\n",
       "1   2023-01-02        2434\n",
       "2   2023-01-03        1631\n",
       "3   2023-01-04        2229\n",
       "4   2023-01-05        2291\n",
       "..         ...         ...\n",
       "360 2023-12-27        1779\n",
       "361 2023-12-28        2069\n",
       "362 2023-12-29        1828\n",
       "363 2023-12-30        1976\n",
       "364 2023-12-31        2099\n",
       "\n",
       "[365 rows x 2 columns]"
      ]
     },
     "execution_count": 23,
     "metadata": {},
     "output_type": "execute_result"
    }
   ],
   "source": [
    "dataframe"
   ]
  },
  {
   "cell_type": "code",
   "execution_count": 24,
   "metadata": {},
   "outputs": [],
   "source": [
    "dataframe['Mese'] = dataframe['Data'].dt.month\n",
    "df_gennaio = df[df['Mese'] == 1]\n"
   ]
  }
 ],
 "metadata": {
  "kernelspec": {
   "display_name": "Python 3",
   "language": "python",
   "name": "python3"
  },
  "language_info": {
   "codemirror_mode": {
    "name": "ipython",
    "version": 3
   },
   "file_extension": ".py",
   "mimetype": "text/x-python",
   "name": "python",
   "nbconvert_exporter": "python",
   "pygments_lexer": "ipython3",
   "version": "3.11.2"
  }
 },
 "nbformat": 4,
 "nbformat_minor": 2
}
