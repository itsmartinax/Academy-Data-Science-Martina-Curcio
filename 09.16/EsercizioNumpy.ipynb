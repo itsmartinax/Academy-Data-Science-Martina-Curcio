{
 "cells": [
  {
   "cell_type": "markdown",
   "metadata": {},
   "source": [
    "# **Esercizi Numpy**"
   ]
  },
  {
   "cell_type": "code",
   "execution_count": 1,
   "metadata": {},
   "outputs": [],
   "source": [
    "import numpy as np"
   ]
  },
  {
   "cell_type": "markdown",
   "metadata": {},
   "source": [
    "## **Esercizio 1**\n",
    "Crea un array NumPy utilizzando arange e verifica il tipo di dato (dtype) e la forma (shape) dell'array."
   ]
  },
  {
   "cell_type": "markdown",
   "metadata": {},
   "source": [
    "1. Utilizza la funzione `np.arange()` per creare un array di numeri interi da 10 a 49."
   ]
  },
  {
   "cell_type": "code",
   "execution_count": 2,
   "metadata": {},
   "outputs": [
    {
     "name": "stdout",
     "output_type": "stream",
     "text": [
      "L'array costruito è [10 11 12 13 14 15 16 17 18 19 20 21 22 23 24 25 26 27 28 29 30 31 32 33\n",
      " 34 35 36 37 38 39 40 41 42 43 44 45 46 47 48 49]\n"
     ]
    }
   ],
   "source": [
    "array = np.arange(10,50)\n",
    "print(\"L'array costruito è\",array)"
   ]
  },
  {
   "cell_type": "markdown",
   "metadata": {},
   "source": [
    "2. Verifica il tipo di dato dell'array e stampa il risultato."
   ]
  },
  {
   "cell_type": "code",
   "execution_count": 3,
   "metadata": {},
   "outputs": [
    {
     "name": "stdout",
     "output_type": "stream",
     "text": [
      "Il tipo di dati contenuti nell'array è int32\n"
     ]
    }
   ],
   "source": [
    "tipo=array.dtype\n",
    "print(\"Il tipo di dati contenuti nell'array è\",tipo)"
   ]
  },
  {
   "cell_type": "markdown",
   "metadata": {},
   "source": [
    "3. Cambia il tipo di dato dell'array in float64 e verifica di nuovo il tipo di dato."
   ]
  },
  {
   "cell_type": "code",
   "execution_count": 4,
   "metadata": {},
   "outputs": [
    {
     "name": "stdout",
     "output_type": "stream",
     "text": [
      "Il tipo di dati contenuti nell'array è float64\n"
     ]
    }
   ],
   "source": [
    "array = np.array(array, dtype='float64')\n",
    "print(\"Il tipo di dati contenuti nell'array è\",array.dtype)"
   ]
  },
  {
   "cell_type": "markdown",
   "metadata": {},
   "source": [
    "4. Stampa la forma dell'array."
   ]
  },
  {
   "cell_type": "code",
   "execution_count": 5,
   "metadata": {},
   "outputs": [
    {
     "name": "stdout",
     "output_type": "stream",
     "text": [
      "Le dimensioni dell'array sono (40,)\n"
     ]
    }
   ],
   "source": [
    "print(\"Le dimensioni dell'array sono\",array.shape)"
   ]
  },
  {
   "cell_type": "markdown",
   "metadata": {},
   "source": [
    "## **Esercizio 2**"
   ]
  },
  {
   "cell_type": "markdown",
   "metadata": {},
   "source": [
    "1. Crea un array NumPy 1D di 20 numeri interi casuali compresi tra 10 e 50."
   ]
  },
  {
   "cell_type": "code",
   "execution_count": 6,
   "metadata": {},
   "outputs": [
    {
     "name": "stdout",
     "output_type": "stream",
     "text": [
      "[34 28 33 39 37 33 32 37 32 20 32 33 41 11 14 36 18 16 27 31]\n"
     ]
    }
   ],
   "source": [
    "array = np.random.randint(10, 50, 20)\n",
    "print(array)"
   ]
  },
  {
   "cell_type": "markdown",
   "metadata": {},
   "source": [
    "2. Utilizza lo slicing per estrarre i primi 10 elementi dell'array."
   ]
  },
  {
   "cell_type": "code",
   "execution_count": 7,
   "metadata": {},
   "outputs": [
    {
     "name": "stdout",
     "output_type": "stream",
     "text": [
      "[34 28 33 39 37 33 32 37 32 20]\n"
     ]
    }
   ],
   "source": [
    "array2=array[:10]\n",
    "print(array2)"
   ]
  },
  {
   "cell_type": "markdown",
   "metadata": {},
   "source": [
    "3. Utilizza lo slicing per estrarre gli ultimi 5 elementi dell'array."
   ]
  },
  {
   "cell_type": "code",
   "execution_count": 8,
   "metadata": {},
   "outputs": [
    {
     "name": "stdout",
     "output_type": "stream",
     "text": [
      "[36 18 16 27 31]\n"
     ]
    }
   ],
   "source": [
    "array3=array[-5:]\n",
    "print(array3)"
   ]
  },
  {
   "cell_type": "markdown",
   "metadata": {},
   "source": [
    "4. Utilizza lo slicing per estrarre gli elementi dall'indice 5 all'indice 15 (escluso)."
   ]
  },
  {
   "cell_type": "code",
   "execution_count": 9,
   "metadata": {},
   "outputs": [
    {
     "name": "stdout",
     "output_type": "stream",
     "text": [
      "[33 32 37 32 20 32 33 41 11 14]\n"
     ]
    }
   ],
   "source": [
    "array4=array[5:15]\n",
    "print(array4)"
   ]
  },
  {
   "cell_type": "markdown",
   "metadata": {},
   "source": [
    "5. Utilizza lo slicing per estrarre ogni terzo elemento dell'array."
   ]
  },
  {
   "cell_type": "code",
   "execution_count": 10,
   "metadata": {},
   "outputs": [
    {
     "name": "stdout",
     "output_type": "stream",
     "text": [
      "[34 39 32 20 41 36 27]\n"
     ]
    }
   ],
   "source": [
    "array5=array[::3]\n",
    "print(array5)"
   ]
  },
  {
   "cell_type": "markdown",
   "metadata": {},
   "source": [
    "6. Modifica, tramite slicing, gli elementi dall'indice 5 all'indice 10 (escluso) assegnando loro il valore 99."
   ]
  },
  {
   "cell_type": "code",
   "execution_count": 11,
   "metadata": {},
   "outputs": [
    {
     "name": "stdout",
     "output_type": "stream",
     "text": [
      "[34 28 33 39 37 99 99 99 99 99 32 33 41 11 14 36 18 16 27 31]\n",
      "[34 28 33 39 37 33 32 37 32 20 32 33 41 11 14 36 18 16 27 31]\n"
     ]
    }
   ],
   "source": [
    "array6=np.copy(array)\n",
    "array6[5:10]=99*np.ones(5)\n",
    "print(array6)\n",
    "print(array)"
   ]
  },
  {
   "cell_type": "code",
   "execution_count": 12,
   "metadata": {},
   "outputs": [
    {
     "name": "stdout",
     "output_type": "stream",
     "text": [
      "[1, 2, 3, 9] [1, 2, 3, 9]\n"
     ]
    }
   ],
   "source": [
    "array6=[1,2,3]\n",
    "array=array6\n",
    "array.append(9)\n",
    "print(array6,array)"
   ]
  },
  {
   "cell_type": "markdown",
   "metadata": {},
   "source": [
    "7. Stampa l'array originale e tutti i sottoarray ottenuti tramite slicing."
   ]
  },
  {
   "cell_type": "code",
   "execution_count": 13,
   "metadata": {},
   "outputs": [
    {
     "name": "stdout",
     "output_type": "stream",
     "text": [
      "1. [1, 2, 3, 9] \n",
      "2. [34 28 33 39 37 33 32 37 32 20] \n",
      "3. [36 18 16 27 31] \n",
      "4. [33 32 37 32 20 32 33 41 11 14] \n",
      "5. [34 39 32 20 41 36 27] \n",
      "6. [1, 2, 3, 9]\n"
     ]
    }
   ],
   "source": [
    "print(\"1.\",array,\"\\n2.\",array2,\"\\n3.\",array3,\"\\n4.\",array4,\"\\n5.\",array5,\"\\n6.\",array6)"
   ]
  },
  {
   "cell_type": "markdown",
   "metadata": {},
   "source": [
    "## **Esercizio 3**\n",
    "\n",
    "Crea un array utilizzando linspace, cambia la sua forma con reshape, genera un array casuale e calcola la somma degli elementi."
   ]
  },
  {
   "cell_type": "markdown",
   "metadata": {},
   "source": [
    "1. Crea un array di 12 numeri equidistanti tra 0 e 1 usando linspace."
   ]
  },
  {
   "cell_type": "code",
   "execution_count": 14,
   "metadata": {},
   "outputs": [],
   "source": [
    "array=np.linspace(0,1,12)"
   ]
  },
  {
   "cell_type": "markdown",
   "metadata": {},
   "source": [
    "2. Cambia la forma dell'array a una matrice 3x4."
   ]
  },
  {
   "cell_type": "code",
   "execution_count": 15,
   "metadata": {},
   "outputs": [],
   "source": [
    "reshaped_array=array.reshape((3,4))"
   ]
  },
  {
   "cell_type": "markdown",
   "metadata": {},
   "source": [
    "3. Genera una matrice 3x4 di numeri casuali tra 0 e 1."
   ]
  },
  {
   "cell_type": "code",
   "execution_count": 16,
   "metadata": {},
   "outputs": [],
   "source": [
    "random_array=np.random.rand(3,4)"
   ]
  },
  {
   "cell_type": "markdown",
   "metadata": {},
   "source": [
    "4. Calcola e stampa la somma degli elementi di entrambe le matrici."
   ]
  },
  {
   "cell_type": "code",
   "execution_count": 17,
   "metadata": {},
   "outputs": [
    {
     "name": "stdout",
     "output_type": "stream",
     "text": [
      "La somma degli elementi di\n",
      " [[0.         0.09090909 0.18181818 0.27272727]\n",
      " [0.36363636 0.45454545 0.54545455 0.63636364]\n",
      " [0.72727273 0.81818182 0.90909091 1.        ]] è 6.0 \n",
      "La somma degli elementi di\n",
      " [[0.08852303 0.68322189 0.65030193 0.12165191]\n",
      " [0.76828009 0.62082733 0.18554508 0.56369881]\n",
      " [0.00245544 0.91414399 0.77797434 0.46717432]] è 5.843798143577007\n"
     ]
    }
   ],
   "source": [
    "somma1 = np.sum(reshaped_array)\n",
    "somma2 = np.sum(random_array)\n",
    "print(\"La somma degli elementi di\\n\",reshaped_array,\"è\", somma1,\"\\nLa somma degli elementi di\\n\",random_array,\"è\",somma2)"
   ]
  }
 ],
 "metadata": {
  "kernelspec": {
   "display_name": "Python 3",
   "language": "python",
   "name": "python3"
  },
  "language_info": {
   "codemirror_mode": {
    "name": "ipython",
    "version": 3
   },
   "file_extension": ".py",
   "mimetype": "text/x-python",
   "name": "python",
   "nbconvert_exporter": "python",
   "pygments_lexer": "ipython3",
   "version": "3.11.2"
  }
 },
 "nbformat": 4,
 "nbformat_minor": 2
}
