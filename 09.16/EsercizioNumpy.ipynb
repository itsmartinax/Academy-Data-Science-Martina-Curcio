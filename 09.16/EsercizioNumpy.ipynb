{
 "cells": [
  {
   "cell_type": "markdown",
   "metadata": {},
   "source": [
    "# **Esercizi Numpy**"
   ]
  },
  {
   "cell_type": "code",
   "execution_count": 1,
   "metadata": {},
   "outputs": [],
   "source": [
    "import numpy as np"
   ]
  },
  {
   "cell_type": "markdown",
   "metadata": {},
   "source": [
    "## **Esercizio 1**\n",
    "Crea un array NumPy utilizzando arange e verifica il tipo di dato (dtype) e la forma (shape) dell'array."
   ]
  },
  {
   "cell_type": "markdown",
   "metadata": {},
   "source": [
    "1. Utilizza la funzione `np.arange()` per creare un array di numeri interi da 10 a 49."
   ]
  },
  {
   "cell_type": "code",
   "execution_count": 2,
   "metadata": {},
   "outputs": [
    {
     "name": "stdout",
     "output_type": "stream",
     "text": [
      "L'array costruito è [10 11 12 13 14 15 16 17 18 19 20 21 22 23 24 25 26 27 28 29 30 31 32 33\n",
      " 34 35 36 37 38 39 40 41 42 43 44 45 46 47 48 49]\n"
     ]
    }
   ],
   "source": [
    "array = np.arange(10,50)\n",
    "print(\"L'array costruito è\",array)"
   ]
  },
  {
   "cell_type": "markdown",
   "metadata": {},
   "source": [
    "2. Verifica il tipo di dato dell'array e stampa il risultato."
   ]
  },
  {
   "cell_type": "code",
   "execution_count": 3,
   "metadata": {},
   "outputs": [
    {
     "name": "stdout",
     "output_type": "stream",
     "text": [
      "Il tipo di dati contenuti nell'array è int32\n"
     ]
    }
   ],
   "source": [
    "tipo=array.dtype\n",
    "print(\"Il tipo di dati contenuti nell'array è\",tipo)"
   ]
  },
  {
   "cell_type": "markdown",
   "metadata": {},
   "source": [
    "3. Cambia il tipo di dato dell'array in float64 e verifica di nuovo il tipo di dato."
   ]
  },
  {
   "cell_type": "code",
   "execution_count": 4,
   "metadata": {},
   "outputs": [
    {
     "name": "stdout",
     "output_type": "stream",
     "text": [
      "Il tipo di dati contenuti nell'array è float64\n"
     ]
    }
   ],
   "source": [
    "array = np.array(array, dtype='float64')\n",
    "print(\"Il tipo di dati contenuti nell'array è\",array.dtype)"
   ]
  },
  {
   "cell_type": "markdown",
   "metadata": {},
   "source": [
    "4. Stampa la forma dell'array."
   ]
  },
  {
   "cell_type": "code",
   "execution_count": 5,
   "metadata": {},
   "outputs": [
    {
     "name": "stdout",
     "output_type": "stream",
     "text": [
      "Le dimensioni dell'array sono (40,)\n"
     ]
    }
   ],
   "source": [
    "print(\"Le dimensioni dell'array sono\",array.shape)"
   ]
  },
  {
   "cell_type": "markdown",
   "metadata": {},
   "source": [
    "## **Esercizio 2**"
   ]
  },
  {
   "cell_type": "markdown",
   "metadata": {},
   "source": [
    "1. Crea un array NumPy 1D di 20 numeri interi casuali compresi tra 10 e 50."
   ]
  },
  {
   "cell_type": "code",
   "execution_count": 6,
   "metadata": {},
   "outputs": [
    {
     "name": "stdout",
     "output_type": "stream",
     "text": [
      "[34 28 33 39 37 33 32 37 32 20 32 33 41 11 14 36 18 16 27 31]\n"
     ]
    }
   ],
   "source": [
    "array = np.random.randint(10, 50, 20)\n",
    "print(array)"
   ]
  },
  {
   "cell_type": "markdown",
   "metadata": {},
   "source": [
    "2. Utilizza lo slicing per estrarre i primi 10 elementi dell'array."
   ]
  },
  {
   "cell_type": "code",
   "execution_count": 7,
   "metadata": {},
   "outputs": [
    {
     "name": "stdout",
     "output_type": "stream",
     "text": [
      "[34 28 33 39 37 33 32 37 32 20]\n"
     ]
    }
   ],
   "source": [
    "array2=array[:10]\n",
    "print(array2)"
   ]
  },
  {
   "cell_type": "markdown",
   "metadata": {},
   "source": [
    "3. Utilizza lo slicing per estrarre gli ultimi 5 elementi dell'array."
   ]
  },
  {
   "cell_type": "code",
   "execution_count": 8,
   "metadata": {},
   "outputs": [
    {
     "name": "stdout",
     "output_type": "stream",
     "text": [
      "[36 18 16 27 31]\n"
     ]
    }
   ],
   "source": [
    "array3=array[-5:]\n",
    "print(array3)"
   ]
  },
  {
   "cell_type": "markdown",
   "metadata": {},
   "source": [
    "4. Utilizza lo slicing per estrarre gli elementi dall'indice 5 all'indice 15 (escluso)."
   ]
  },
  {
   "cell_type": "code",
   "execution_count": 9,
   "metadata": {},
   "outputs": [
    {
     "name": "stdout",
     "output_type": "stream",
     "text": [
      "[33 32 37 32 20 32 33 41 11 14]\n"
     ]
    }
   ],
   "source": [
    "array4=array[5:15]\n",
    "print(array4)"
   ]
  },
  {
   "cell_type": "markdown",
   "metadata": {},
   "source": [
    "5. Utilizza lo slicing per estrarre ogni terzo elemento dell'array."
   ]
  },
  {
   "cell_type": "code",
   "execution_count": 10,
   "metadata": {},
   "outputs": [
    {
     "name": "stdout",
     "output_type": "stream",
     "text": [
      "[34 39 32 20 41 36 27]\n"
     ]
    }
   ],
   "source": [
    "array5=array[::3]\n",
    "print(array5)"
   ]
  },
  {
   "cell_type": "markdown",
   "metadata": {},
   "source": [
    "6. Modifica, tramite slicing, gli elementi dall'indice 5 all'indice 10 (escluso) assegnando loro il valore 99."
   ]
  },
  {
   "cell_type": "code",
   "execution_count": 11,
   "metadata": {},
   "outputs": [
    {
     "name": "stdout",
     "output_type": "stream",
     "text": [
      "[34 28 33 39 37 99 99 99 99 99 32 33 41 11 14 36 18 16 27 31]\n",
      "[34 28 33 39 37 33 32 37 32 20 32 33 41 11 14 36 18 16 27 31]\n"
     ]
    }
   ],
   "source": [
    "array6=np.copy(array)\n",
    "array6[5:10]=99*np.ones(5)\n",
    "print(array6)\n",
    "print(array)"
   ]
  },
  {
   "cell_type": "code",
   "execution_count": 12,
   "metadata": {},
   "outputs": [
    {
     "name": "stdout",
     "output_type": "stream",
     "text": [
      "[1, 2, 3, 9] [1, 2, 3, 9]\n"
     ]
    }
   ],
   "source": [
    "array6=[1,2,3]\n",
    "array=array6\n",
    "array.append(9)\n",
    "print(array6,array)"
   ]
  },
  {
   "cell_type": "markdown",
   "metadata": {},
   "source": [
    "7. Stampa l'array originale e tutti i sottoarray ottenuti tramite slicing."
   ]
  },
  {
   "cell_type": "code",
   "execution_count": 13,
   "metadata": {},
   "outputs": [
    {
     "name": "stdout",
     "output_type": "stream",
     "text": [
      "1. [1, 2, 3, 9] \n",
      "2. [34 28 33 39 37 33 32 37 32 20] \n",
      "3. [36 18 16 27 31] \n",
      "4. [33 32 37 32 20 32 33 41 11 14] \n",
      "5. [34 39 32 20 41 36 27] \n",
      "6. [1, 2, 3, 9]\n"
     ]
    }
   ],
   "source": [
    "print(\"1.\",array,\"\\n2.\",array2,\"\\n3.\",array3,\"\\n4.\",array4,\"\\n5.\",array5,\"\\n6.\",array6)"
   ]
  },
  {
   "cell_type": "markdown",
   "metadata": {},
   "source": [
    "## **Esercizio 3**\n",
    "\n",
    "Crea un array utilizzando linspace, cambia la sua forma con reshape, genera un array casuale e calcola la somma degli elementi."
   ]
  },
  {
   "cell_type": "markdown",
   "metadata": {},
   "source": [
    "1. Crea un array di 12 numeri equidistanti tra 0 e 1 usando linspace."
   ]
  },
  {
   "cell_type": "code",
   "execution_count": 14,
   "metadata": {},
   "outputs": [],
   "source": [
    "array=np.linspace(0,1,12)"
   ]
  },
  {
   "cell_type": "markdown",
   "metadata": {},
   "source": [
    "2. Cambia la forma dell'array a una matrice 3x4."
   ]
  },
  {
   "cell_type": "code",
   "execution_count": 15,
   "metadata": {},
   "outputs": [],
   "source": [
    "reshaped_array=array.reshape((3,4))"
   ]
  },
  {
   "cell_type": "markdown",
   "metadata": {},
   "source": [
    "3. Genera una matrice 3x4 di numeri casuali tra 0 e 1."
   ]
  },
  {
   "cell_type": "code",
   "execution_count": 16,
   "metadata": {},
   "outputs": [],
   "source": [
    "random_array=np.random.rand(3,4)"
   ]
  },
  {
   "cell_type": "markdown",
   "metadata": {},
   "source": [
    "4. Calcola e stampa la somma degli elementi di entrambe le matrici."
   ]
  },
  {
   "cell_type": "code",
   "execution_count": 17,
   "metadata": {},
   "outputs": [
    {
     "name": "stdout",
     "output_type": "stream",
     "text": [
      "La somma degli elementi di\n",
      " [[0.         0.09090909 0.18181818 0.27272727]\n",
      " [0.36363636 0.45454545 0.54545455 0.63636364]\n",
      " [0.72727273 0.81818182 0.90909091 1.        ]] è 6.0 \n",
      "La somma degli elementi di\n",
      " [[0.08852303 0.68322189 0.65030193 0.12165191]\n",
      " [0.76828009 0.62082733 0.18554508 0.56369881]\n",
      " [0.00245544 0.91414399 0.77797434 0.46717432]] è 5.843798143577007\n"
     ]
    }
   ],
   "source": [
    "somma1 = np.sum(reshaped_array)\n",
    "somma2 = np.sum(random_array)\n",
    "print(\"La somma degli elementi di\\n\",reshaped_array,\"è\", somma1,\"\\nLa somma degli elementi di\\n\",random_array,\"è\",somma2)"
   ]
  },
  {
   "cell_type": "markdown",
   "metadata": {},
   "source": [
    "## **Esercizio 4**"
   ]
  },
  {
   "cell_type": "markdown",
   "metadata": {},
   "source": [
    "1. Utilizza `np.linspace()` per creare un array di 50 numeri equidistanziati tra 0 e 10."
   ]
  },
  {
   "cell_type": "code",
   "execution_count": 42,
   "metadata": {},
   "outputs": [
    {
     "data": {
      "text/plain": [
       "array([ 0.        ,  0.20408163,  0.40816327,  0.6122449 ,  0.81632653,\n",
       "        1.02040816,  1.2244898 ,  1.42857143,  1.63265306,  1.83673469,\n",
       "        2.04081633,  2.24489796,  2.44897959,  2.65306122,  2.85714286,\n",
       "        3.06122449,  3.26530612,  3.46938776,  3.67346939,  3.87755102,\n",
       "        4.08163265,  4.28571429,  4.48979592,  4.69387755,  4.89795918,\n",
       "        5.10204082,  5.30612245,  5.51020408,  5.71428571,  5.91836735,\n",
       "        6.12244898,  6.32653061,  6.53061224,  6.73469388,  6.93877551,\n",
       "        7.14285714,  7.34693878,  7.55102041,  7.75510204,  7.95918367,\n",
       "        8.16326531,  8.36734694,  8.57142857,  8.7755102 ,  8.97959184,\n",
       "        9.18367347,  9.3877551 ,  9.59183673,  9.79591837, 10.        ])"
      ]
     },
     "execution_count": 42,
     "metadata": {},
     "output_type": "execute_result"
    }
   ],
   "source": [
    "array1=np.linspace(0,10,50)\n",
    "array1"
   ]
  },
  {
   "cell_type": "markdown",
   "metadata": {},
   "source": [
    "2. Utilizza `np.random.rand()` per creare un array di 50 numeri casuali compresi tra 0 e 1."
   ]
  },
  {
   "cell_type": "code",
   "execution_count": 43,
   "metadata": {},
   "outputs": [
    {
     "data": {
      "text/plain": [
       "array([0.42566508, 0.15042866, 0.91289409, 0.5577497 , 0.69846712,\n",
       "       0.58462022, 0.56157005, 0.813865  , 0.64534771, 0.82075309,\n",
       "       0.99094657, 0.91876616, 0.3000175 , 0.42500284, 0.29148032,\n",
       "       0.61422214, 0.05845464, 0.89931581, 0.43193361, 0.86126079,\n",
       "       0.85502574, 0.45597135, 0.08458006, 0.12329584, 0.48644105,\n",
       "       0.04576132, 0.98946141, 0.96307075, 0.93270209, 0.39285367,\n",
       "       0.16314394, 0.48194728, 0.35039588, 0.44491843, 0.3346531 ,\n",
       "       0.01442734, 0.92300777, 0.62053264, 0.35816418, 0.31297369,\n",
       "       0.7639566 , 0.80467988, 0.77938513, 0.37593992, 0.75131423,\n",
       "       0.72398768, 0.07193669, 0.15747757, 0.79635076, 0.94715468])"
      ]
     },
     "execution_count": 43,
     "metadata": {},
     "output_type": "execute_result"
    }
   ],
   "source": [
    "array2=np.random.rand(50)\n",
    "array2"
   ]
  },
  {
   "cell_type": "markdown",
   "metadata": {},
   "source": [
    "3. Somma i due array elemento per elemento per ottenere un nuovo array."
   ]
  },
  {
   "cell_type": "code",
   "execution_count": 44,
   "metadata": {},
   "outputs": [
    {
     "data": {
      "text/plain": [
       "array([ 0.42566508,  0.3545103 ,  1.32105736,  1.1699946 ,  1.51479365,\n",
       "        1.60502838,  1.78605984,  2.24243643,  2.27800077,  2.65748778,\n",
       "        3.0317629 ,  3.16366412,  2.74899709,  3.07806406,  3.14862318,\n",
       "        3.67544663,  3.32376077,  4.36870356,  4.105403  ,  4.73881181,\n",
       "        4.93665839,  4.74168563,  4.57437598,  4.81717339,  5.38440023,\n",
       "        5.14780214,  6.29558386,  6.47327483,  6.6469878 ,  6.31122102,\n",
       "        6.28559292,  6.80847789,  6.88100813,  7.1796123 ,  7.27342861,\n",
       "        7.15728449,  8.26994655,  8.17155305,  8.11326622,  8.27215737,\n",
       "        8.92722191,  9.17202682,  9.3508137 ,  9.15145012,  9.73090607,\n",
       "        9.90766115,  9.4596918 ,  9.74931431, 10.59226913, 10.94715468])"
      ]
     },
     "execution_count": 44,
     "metadata": {},
     "output_type": "execute_result"
    }
   ],
   "source": [
    "array=array1+array2\n",
    "array"
   ]
  },
  {
   "cell_type": "markdown",
   "metadata": {},
   "source": [
    "4. Calcola la somma totale degli elementi del nuovo array"
   ]
  },
  {
   "cell_type": "code",
   "execution_count": 45,
   "metadata": {},
   "outputs": [
    {
     "data": {
      "text/plain": [
       "277.4682717891247"
      ]
     },
     "execution_count": 45,
     "metadata": {},
     "output_type": "execute_result"
    }
   ],
   "source": [
    "somma=array.sum()\n",
    "somma"
   ]
  },
  {
   "cell_type": "markdown",
   "metadata": {},
   "source": [
    "5. Calcola la somma degli elementi del nuovo array che sono maggiori di 5."
   ]
  },
  {
   "cell_type": "code",
   "execution_count": 51,
   "metadata": {},
   "outputs": [
    {
     "data": {
      "text/plain": [
       "array([ 5.38440023,  5.14780214,  6.29558386,  6.47327483,  6.6469878 ,\n",
       "        6.31122102,  6.28559292,  6.80847789,  6.88100813,  7.1796123 ,\n",
       "        7.27342861,  7.15728449,  8.26994655,  8.17155305,  8.11326622,\n",
       "        8.27215737,  8.92722191,  9.17202682,  9.3508137 ,  9.15145012,\n",
       "        9.73090607,  9.90766115,  9.4596918 ,  9.74931431, 10.59226913,\n",
       "       10.94715468])"
      ]
     },
     "execution_count": 51,
     "metadata": {},
     "output_type": "execute_result"
    }
   ],
   "source": [
    "array3=array.copy()\n",
    "somma_5=array3[array3>5].sum()\n",
    "array3[array3>5]"
   ]
  },
  {
   "cell_type": "markdown",
   "metadata": {},
   "source": [
    "6. Stampa gli array originali, il nuovo array risultante della somma e le somme calcolate."
   ]
  },
  {
   "cell_type": "code",
   "execution_count": 49,
   "metadata": {},
   "outputs": [
    {
     "name": "stdout",
     "output_type": "stream",
     "text": [
      "Array 1:\n",
      " [ 0.          0.20408163  0.40816327  0.6122449   0.81632653  1.02040816\n",
      "  1.2244898   1.42857143  1.63265306  1.83673469  2.04081633  2.24489796\n",
      "  2.44897959  2.65306122  2.85714286  3.06122449  3.26530612  3.46938776\n",
      "  3.67346939  3.87755102  4.08163265  4.28571429  4.48979592  4.69387755\n",
      "  4.89795918  5.10204082  5.30612245  5.51020408  5.71428571  5.91836735\n",
      "  6.12244898  6.32653061  6.53061224  6.73469388  6.93877551  7.14285714\n",
      "  7.34693878  7.55102041  7.75510204  7.95918367  8.16326531  8.36734694\n",
      "  8.57142857  8.7755102   8.97959184  9.18367347  9.3877551   9.59183673\n",
      "  9.79591837 10.        ] \n",
      "Array 2:\n",
      " [0.42566508 0.15042866 0.91289409 0.5577497  0.69846712 0.58462022\n",
      " 0.56157005 0.813865   0.64534771 0.82075309 0.99094657 0.91876616\n",
      " 0.3000175  0.42500284 0.29148032 0.61422214 0.05845464 0.89931581\n",
      " 0.43193361 0.86126079 0.85502574 0.45597135 0.08458006 0.12329584\n",
      " 0.48644105 0.04576132 0.98946141 0.96307075 0.93270209 0.39285367\n",
      " 0.16314394 0.48194728 0.35039588 0.44491843 0.3346531  0.01442734\n",
      " 0.92300777 0.62053264 0.35816418 0.31297369 0.7639566  0.80467988\n",
      " 0.77938513 0.37593992 0.75131423 0.72398768 0.07193669 0.15747757\n",
      " 0.79635076 0.94715468] \n",
      "Somma:\n",
      " [ 0.42566508  0.3545103   1.32105736  1.1699946   1.51479365  1.60502838\n",
      "  1.78605984  2.24243643  2.27800077  2.65748778  3.0317629   3.16366412\n",
      "  2.74899709  3.07806406  3.14862318  3.67544663  3.32376077  4.36870356\n",
      "  4.105403    4.73881181  4.93665839  4.74168563  4.57437598  4.81717339\n",
      "  5.38440023  5.14780214  6.29558386  6.47327483  6.6469878   6.31122102\n",
      "  6.28559292  6.80847789  6.88100813  7.1796123   7.27342861  7.15728449\n",
      "  8.26994655  8.17155305  8.11326622  8.27215737  8.92722191  9.17202682\n",
      "  9.3508137   9.15145012  9.73090607  9.90766115  9.4596918   9.74931431\n",
      " 10.59226913 10.94715468] \n",
      "Somma degli elementi: 277.4682717891247 \n",
      "SOmma degli elementi maggiori di 5: 207.66010709275568\n"
     ]
    }
   ],
   "source": [
    "print(\"Array 1:\\n\",array1,\"\\nArray 2:\\n\",array2,\"\\nSomma:\\n\",array,\"\\nSomma degli elementi:\",somma,\"\\nSOmma degli elementi maggiori di 5:\",somma_5)"
   ]
  },
  {
   "cell_type": "markdown",
   "metadata": {},
   "source": [
    "## **Esercizio 5**"
   ]
  },
  {
   "cell_type": "markdown",
   "metadata": {},
   "source": [
    "Scrivere un Sistema che utilizza NumPy per gestire una matrice 2D. Il programma deve presentare un menu interattivo che consente all'utente di\n",
    "eseguire varie operazioni sulla matrice. \n",
    "\n",
    "1. Creare una nuova matrice 2D di dimensioni specificate con numeri casuali.\n",
    "2. Estrarre e stampare la sotto-matrice centrale.\n",
    "3. Trasporre la matrice e stamparla.\n",
    "4. Calcolare e stampare la somma di tutti gli elementi della matrice.\n",
    "5. Uscire dal programma."
   ]
  },
  {
   "cell_type": "code",
   "execution_count": 53,
   "metadata": {},
   "outputs": [],
   "source": [
    "def crea_matrice(n,m):\n",
    "    matrice = np.random.uniform(0, 10, size=(n, m))\n",
    "    return matrice"
   ]
  },
  {
   "cell_type": "code",
   "execution_count": 62,
   "metadata": {},
   "outputs": [],
   "source": [
    "def sottomatrice_centrale(matrice, r, c):\n",
    "    \n",
    "    n,m=np.shape(matrice)\n",
    "    sottomatrice=matrice[1:n-1,1:m-1]\n",
    "    return sottomatrice"
   ]
  },
  {
   "cell_type": "code",
   "execution_count": 59,
   "metadata": {},
   "outputs": [],
   "source": [
    "def trasposta(matrice):\n",
    "    print(\"La matrice trasposta è\",matrice.T)\n",
    "    return matrice.T"
   ]
  },
  {
   "cell_type": "code",
   "execution_count": 73,
   "metadata": {},
   "outputs": [],
   "source": [
    "X=True\n",
    "while X==True:\n",
    "    opt = int(input(\"Cosa vuoi fare? \\n1.Crea matrice \\n2.Sottomatrice centrale \\n3.Trasposta \\n4.Somma degli elementi \\n5.Esci \\nScegli opzione: \"))\n",
    "    if opt==1:\n",
    "        n=int(input(\"Inserisci numero di righe: \"))\n",
    "        m=int(input(\"Inserisci numero di colonne: \"))\n",
    "        matrice=crea_matrice(n,m)\n",
    "    elif opt==2:\n",
    "        sottomatrice=sottomatrice_centrale(matrice)\n",
    "    elif opt==3:\n",
    "        mattrasposta=trasposta(matrice)\n",
    "    elif opt==4:\n",
    "        somma = np.sum(matrice)\n",
    "        print(\"La somma degli elementi è\",somma)\n",
    "    elif opt==5:\n",
    "        X=False"
   ]
  }
 ],
 "metadata": {
  "kernelspec": {
   "display_name": "Python 3",
   "language": "python",
   "name": "python3"
  },
  "language_info": {
   "codemirror_mode": {
    "name": "ipython",
    "version": 3
   },
   "file_extension": ".py",
   "mimetype": "text/x-python",
   "name": "python",
   "nbconvert_exporter": "python",
   "pygments_lexer": "ipython3",
   "version": "3.11.2"
  }
 },
 "nbformat": 4,
 "nbformat_minor": 2
}
