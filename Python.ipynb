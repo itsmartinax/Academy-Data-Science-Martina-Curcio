{
 "cells": [
  {
   "cell_type": "markdown",
   "metadata": {},
   "source": [
    "# **Linguaggio di Modellizzazione Unificato (UML)**\n",
    "Il *linguaggio di modellizzazione unificato* (*UML*) è un linguaggio standardizzato per la modellizazione di software."
   ]
  },
  {
   "cell_type": "markdown",
   "metadata": {},
   "source": [
    "## **Caratteristiche dell'UML**\n",
    "\n",
    "* **Standardizzato**: Le sue specifiche sono uniformi e riconosciute a livello internazionale.\n",
    "\n",
    "* **Visuale**: Utilizza diagrammi per rappresentare gli elementi e le relazioni in un sistema software.\n",
    "\n",
    "* **Polivalente**: Modella sistemi di vario tipo.\n",
    "\n",
    "* **Estensibile**: Permette la personalizzazione delle regole a patto che le nuove siano coerenti con le precedenti."
   ]
  },
  {
   "cell_type": "markdown",
   "metadata": {},
   "source": [
    "## **Elementi dell'UML**\n",
    "* **Strutture statiche**: Elementi irremovibili che rappresentano gli obblighi che hanno macchina e utente.\n",
    "\n",
    "* **Comportamenti dinamici**: Azioni pratiche che variano nel tempo.\n",
    "\n",
    "* **Aspetti di organizzazione**: Insieme delle regole comuni con cui si visualizza l'UML, anche dette stereotipi."
   ]
  },
  {
   "cell_type": "markdown",
   "metadata": {},
   "source": [
    "# **Introduzione a Python**\n",
    "\n",
    "*Python* è un linguaggio di programmazione *interpretato*, *orientato agli oggetti*, *dinamico* e *ad alto livello*."
   ]
  },
  {
   "cell_type": "markdown",
   "metadata": {},
   "source": [
    "* **Linguaggio interpretato**: Un interprete analizza il codice sorgente e, se sintatticamente corretto, lo esegue.\n",
    "\n",
    "* **Linguaggio orientato agli oggetti**: La programmazione orientata agli oggetti è un paradigma di programmazione che si fonda sul concetto di *oggetto*.\n",
    "\n",
    "* **Linguaggio dinamico**: Le variabili non necessitano di essere dichiarate esplicitamente con un tipo prima di essere utilizzate.\n",
    "\n",
    "* **Linguaggio ad alto livello**: Linguaggio informatico progettato per essere più simile al linguaggio naturale."
   ]
  },
  {
   "cell_type": "markdown",
   "metadata": {},
   "source": [
    "## **Unicità di Python**\n",
    "* **Tolleranza agli errori**: Permette di correggere errori senza dover ricompilare l'intero programma.\n",
    "\n",
    "* **Sintassi leggibile e pulita**: La sintassi risulta essere chiara e leggibile, vicino al linguaggio naturale.\n",
    "\n",
    "* **Filosofia 'Batteries Included'**: Python fornisce una vasta gamma di librerie standard, utili per compiti comuni in programmazione.\n",
    "\n",
    "* **Dinamico ma fortemente tipizzato**: Le variabili non necessitano di essere dichiarate esplicitamente con un tipo, tuttavia, è fortemente tipizzato in quanto non sono concesse operazioni che non siano ben definite.\n",
    "\n",
    "* **Supporto multiparadigma**: Python supporta diversi paradigmi di programmazione permettendo di scegliere l'approccio più adatto per un problema.\n",
    "\n",
    "* **Estensibilità e Interoperabilità**: Python può essere esteso con codice scritto in altri linguaggi e permette la modifica delle librerie preesistenti."
   ]
  },
  {
   "cell_type": "markdown",
   "metadata": {},
   "source": [
    "## **Introduzione alla Programmazione Orientata agli Oggetti (OOP)**\n",
    "La *programmazione orientata agli oggetti* è un paradigma di programmazione che si fonda sul concetto di 'oggetto'. Basata sull'*astrazione* che è la madre delle tre regole fondamentali dell'OOP (*incapsulamento*, *Ereditarietà*, *Polimorfismo*)."
   ]
  },
  {
   "cell_type": "markdown",
   "metadata": {},
   "source": [
    "* **Astrazione**: Consiste nel creare una rappresentazione semplificata di un oggetto, focalizzandosi sugli aspetti rilevanti e nascondendo i dettagli meno importanti.\n",
    "\n",
    "* **Incapsulamento**: Gli oggetti nascondono i propri dati e li rendono accessibili solo attraverso metodi specifici.\n",
    "\n",
    "* **Ereditarietà**: Una classe può ereditare proprietà e comportamenti da un'altra classe in maniera gerarchica.\n",
    "\n",
    "* **Polimorfismo**: Capacità di un oggetto di cambiare forma ma non comportamento e viceversa."
   ]
  },
  {
   "cell_type": "markdown",
   "metadata": {},
   "source": [
    "# **Programmazione in Python**"
   ]
  },
  {
   "cell_type": "markdown",
   "metadata": {},
   "source": [
    "## **Indentazione**\n",
    "L'indentazione definisce i blocchi di codice utilizzando spazi o tabulazioni per spostare il codice a destra o a sinistra rispetto ad altri blocchi di codice."
   ]
  },
  {
   "cell_type": "markdown",
   "metadata": {},
   "source": [
    "## **Commenti**\n"
   ]
  },
  {
   "cell_type": "markdown",
   "metadata": {},
   "source": [
    "## **Variabili**"
   ]
  },
  {
   "cell_type": "markdown",
   "metadata": {},
   "source": [
    "### **Numeri**\n",
    "I numeri sono principalmente di tipo *intero* o *in virgola mobile* (*float*).\n"
   ]
  },
  {
   "cell_type": "code",
   "execution_count": 4,
   "metadata": {},
   "outputs": [
    {
     "name": "stdout",
     "output_type": "stream",
     "text": [
      "126 è di tipo <class 'int'>\n"
     ]
    }
   ],
   "source": [
    "x=int(input(\"Inserisci un numero: \"))\n",
    "print(x,\"è di tipo\",type(x))"
   ]
  },
  {
   "cell_type": "code",
   "execution_count": 5,
   "metadata": {},
   "outputs": [
    {
     "name": "stdout",
     "output_type": "stream",
     "text": [
      "34.8 è di tipo <class 'float'>\n"
     ]
    }
   ],
   "source": [
    "y=float(input(\"Inserisci un numero con la virgola: \"))\n",
    "print(y,\"è di tipo\",type(y))"
   ]
  },
  {
   "cell_type": "markdown",
   "metadata": {},
   "source": [
    "### **Stringhe**\n",
    "Le stringhe sono sequenze di caratteri."
   ]
  },
  {
   "cell_type": "code",
   "execution_count": 10,
   "metadata": {},
   "outputs": [
    {
     "name": "stdout",
     "output_type": "stream",
     "text": [
      "Ciao, mi chiamo Martina! è di tipo <class 'str'>\n"
     ]
    }
   ],
   "source": [
    "s=\"Ciao, mi chiamo Martina!\"\n",
    "print(s,\"è di tipo\",type(s))"
   ]
  },
  {
   "cell_type": "markdown",
   "metadata": {},
   "source": [
    "Si può accedere ai valori di una stringa utilizzando gli indici corrispondenti."
   ]
  },
  {
   "cell_type": "code",
   "execution_count": 17,
   "metadata": {},
   "outputs": [
    {
     "name": "stdout",
     "output_type": "stream",
     "text": [
      "Il sesto elemento della tupla Ciao, mi chiamo Martina! è m\n"
     ]
    }
   ],
   "source": [
    "print(\"Il sesto elemento della stringa\",s,\"è\",s[6])"
   ]
  },
  {
   "cell_type": "markdown",
   "metadata": {},
   "source": [
    "Lo *slicing* consente di estrarre una sottostringa da una stringa più grande:\n",
    "```\n",
    "stringa[start:stop:step]\n",
    "```\n",
    "* `start` è l'indice da cui iniziare l'affettamento (inclusivo); se omesso, si inizia dall'inizio della stringa.\n",
    "* `stop` è l'indice a cui fermarsi (esclusivo); se omesso, si prosegue fino alla fine della stringa.\n",
    "* `step` è il passo tra gli indici; se omesso, il passo predefinito è 1."
   ]
  },
  {
   "cell_type": "code",
   "execution_count": 27,
   "metadata": {},
   "outputs": [
    {
     "name": "stdout",
     "output_type": "stream",
     "text": [
      "La sottostringa di Ciao, mi chiamo Martina! che va dall'indice 2 all'indice 14 è ao, mi chiamo\n"
     ]
    }
   ],
   "source": [
    "print(\"La sottostringa di\",s,\"che va dall'indice 2 all'indice 14 è\",s[2:15:])"
   ]
  },
  {
   "cell_type": "markdown",
   "metadata": {},
   "source": [
    "Le stringhe supportano diversi metodi tra cui:"
   ]
  },
  {
   "cell_type": "markdown",
   "metadata": {},
   "source": [
    "* `len()` fornisce la lunghezza di una stringa:"
   ]
  },
  {
   "cell_type": "code",
   "execution_count": 3,
   "metadata": {},
   "outputs": [
    {
     "name": "stdout",
     "output_type": "stream",
     "text": [
      "La lunghezza della frase inserita è 17\n"
     ]
    }
   ],
   "source": [
    "print(\"La lunghezza della frase inserita è\", len(s))"
   ]
  },
  {
   "cell_type": "markdown",
   "metadata": {},
   "source": [
    "* `upper()` converte una stringa in maiuscolo:"
   ]
  },
  {
   "cell_type": "code",
   "execution_count": 8,
   "metadata": {},
   "outputs": [
    {
     "name": "stdout",
     "output_type": "stream",
     "text": [
      "Convertiamo la stringa in minuscolo: CIAO MI CHIAMO MARTINA\n"
     ]
    }
   ],
   "source": [
    "print(\"Convertiamo la stringa in minuscolo:\",s.upper())"
   ]
  },
  {
   "cell_type": "markdown",
   "metadata": {},
   "source": [
    "* `lower()` converte una stringa in minuscolo:"
   ]
  },
  {
   "cell_type": "code",
   "execution_count": 9,
   "metadata": {},
   "outputs": [
    {
     "name": "stdout",
     "output_type": "stream",
     "text": [
      "Convertiamo la stringa in minuscolo: ciao mi chiamo martina\n"
     ]
    }
   ],
   "source": [
    "print(\"Convertiamo la stringa in minuscolo:\",s.lower())"
   ]
  },
  {
   "cell_type": "markdown",
   "metadata": {},
   "source": [
    "* `split()` divide una stringa in una lista di sottostringhe in base a un delimitatore:"
   ]
  },
  {
   "cell_type": "code",
   "execution_count": 10,
   "metadata": {},
   "outputs": [
    {
     "name": "stdout",
     "output_type": "stream",
     "text": [
      "Dividiamo la frase in parole: ['ciao', 'mi', 'chiamo', 'martina']\n"
     ]
    }
   ],
   "source": [
    "print(\"Dividiamo la frase in parole:\",s.split(' '))  "
   ]
  },
  {
   "cell_type": "markdown",
   "metadata": {},
   "source": [
    "* `replace()` sostituisce parti di una stringa con un'altra:"
   ]
  },
  {
   "cell_type": "code",
   "execution_count": 11,
   "metadata": {},
   "outputs": [
    {
     "name": "stdout",
     "output_type": "stream",
     "text": [
      "Sostituiamo le 'a' con le 'X': ciXo mi chiXmo mXrtinX\n"
     ]
    }
   ],
   "source": [
    "print(\"Sostituiamo le 'a' con le 'X':\", s.replace('a','X'))"
   ]
  },
  {
   "cell_type": "markdown",
   "metadata": {},
   "source": [
    "* `isalpha()` restituisce `True` (*booleano*) se tutti i caratteri nella stringa sono alfabetici e c'è almeno un carattere; altrimenti restituisce `False`:"
   ]
  },
  {
   "cell_type": "code",
   "execution_count": 8,
   "metadata": {},
   "outputs": [
    {
     "name": "stdout",
     "output_type": "stream",
     "text": [
      "abciao è alfabetico? True\n",
      "abciao1 è alfabetico? False\n"
     ]
    }
   ],
   "source": [
    "print(\"abciao è alfabetico?\",\"abciao\".isalpha())\n",
    "print(\"abciao1 è alfabetico?\",\"abciao1\".isalpha())"
   ]
  },
  {
   "cell_type": "markdown",
   "metadata": {},
   "source": [
    "* `isalnum()` restituisce `True` se tutti i caratteri della stringa sono alfanumerici e se la stringa non è vuota:"
   ]
  },
  {
   "cell_type": "code",
   "execution_count": 7,
   "metadata": {},
   "outputs": [
    {
     "name": "stdout",
     "output_type": "stream",
     "text": [
      "123ab è alfanumerico? True\n",
      "123ab! è alfanumerico? False\n"
     ]
    }
   ],
   "source": [
    "print(\"123ab è alfanumerico?\",\"123ab\".isalnum())\n",
    "print(\"123ab! è alfanumerico?\",\"123ab!\".isalnum())"
   ]
  },
  {
   "cell_type": "markdown",
   "metadata": {},
   "source": [
    "* `isdecimal()` restituisce `True` se tutti i caratteri della stringa sono numeri decimali e se la stringa non è vuota:"
   ]
  },
  {
   "cell_type": "code",
   "execution_count": 4,
   "metadata": {},
   "outputs": [
    {
     "name": "stdout",
     "output_type": "stream",
     "text": [
      "123 è numerico? True\n",
      "123a è numerico? False\n"
     ]
    }
   ],
   "source": [
    "print(\"123 è numerico?\",\"123\".isdecimal())\n",
    "print(\"123a è numerico?\",\"123a\".isdecimal())"
   ]
  },
  {
   "cell_type": "markdown",
   "metadata": {},
   "source": [
    "* `count()` conta il numero di occorrenze di una sottostringa all'interno di una stringa"
   ]
  },
  {
   "cell_type": "code",
   "execution_count": 13,
   "metadata": {},
   "outputs": [
    {
     "name": "stdout",
     "output_type": "stream",
     "text": [
      "La lettera a è presente nella stringa Ciao, mi chiamo Martina! 4 volte.\n"
     ]
    }
   ],
   "source": [
    "conteggio = s.count('a')\n",
    "print(\"La lettera a è presente nella stringa\",s ,conteggio,\"volte.\")"
   ]
  },
  {
   "cell_type": "markdown",
   "metadata": {},
   "source": [
    "### **Booleani**\n",
    "Un *booleano* è un dato che può assumere solo due valori: *True* o *False*. "
   ]
  },
  {
   "cell_type": "code",
   "execution_count": 14,
   "metadata": {},
   "outputs": [
    {
     "name": "stdout",
     "output_type": "stream",
     "text": [
      "True è di tipo <class 'bool'>\n"
     ]
    }
   ],
   "source": [
    "X=True\n",
    "print(X,\"è di tipo\", type(X))"
   ]
  },
  {
   "cell_type": "markdown",
   "metadata": {},
   "source": [
    "Python supporta gli operatori logici per la valutazione di espressioni booleane:"
   ]
  },
  {
   "cell_type": "code",
   "execution_count": 15,
   "metadata": {},
   "outputs": [],
   "source": [
    "x=int(input(\"Inserisci un numero: \"))\n",
    "y=int(input(\"Inserisci un numero: \"))\n",
    "z=int(input(\"Inserisci un numero: \"))"
   ]
  },
  {
   "cell_type": "markdown",
   "metadata": {},
   "source": [
    "* `and` resistuisce True se entrambe le condizioni sono vere:"
   ]
  },
  {
   "cell_type": "code",
   "execution_count": 16,
   "metadata": {},
   "outputs": [
    {
     "name": "stdout",
     "output_type": "stream",
     "text": [
      "Esempio.\n",
      " 7 < 4 e 4 > 3 ?: False\n"
     ]
    }
   ],
   "source": [
    "print(x,\"<\",y,\"e\",y,\">\",z,\"?:\",x<y and y>z)"
   ]
  },
  {
   "cell_type": "markdown",
   "metadata": {},
   "source": [
    "* `or` resistuiscce True se almeno una delle condizioni è vera:"
   ]
  },
  {
   "cell_type": "code",
   "execution_count": 17,
   "metadata": {},
   "outputs": [
    {
     "name": "stdout",
     "output_type": "stream",
     "text": [
      "7 < 4 o 3 > 4 ?: False\n"
     ]
    }
   ],
   "source": [
    "print(x,\"<\",y,\"o\",z,\">\",y,\"?:\",x<y or z>y)"
   ]
  },
  {
   "cell_type": "markdown",
   "metadata": {},
   "source": [
    "* `not` resistuiscce il valore booleano opposto di ciò che segue:"
   ]
  },
  {
   "cell_type": "code",
   "execution_count": 20,
   "metadata": {},
   "outputs": [
    {
     "name": "stdout",
     "output_type": "stream",
     "text": [
      "7 < 4 ? : False \n",
      "Opposto: True\n"
     ]
    }
   ],
   "source": [
    "print(x,\"<\",y,\"? :\",x<y,\"\\nOpposto:\", not(x<y))"
   ]
  },
  {
   "cell_type": "markdown",
   "metadata": {},
   "source": [
    "### **Liste**\n",
    "Una lista è una collezione ordinata e modificabile di elementi."
   ]
  },
  {
   "cell_type": "code",
   "execution_count": 39,
   "metadata": {},
   "outputs": [
    {
     "name": "stdout",
     "output_type": "stream",
     "text": [
      "[5, 'ciao', -6, 'hello', [-3, 7, 9]] è di tipo <class 'list'>\n"
     ]
    }
   ],
   "source": [
    "l=[5, 'ciao', -6, 'hello', [-3,7,9]]\n",
    "print(l,\"è di tipo\",type(l))"
   ]
  },
  {
   "cell_type": "markdown",
   "metadata": {},
   "source": [
    "Si può accedere ad un elemento della lista utilizzando il proprio indice e modificarlo."
   ]
  },
  {
   "cell_type": "code",
   "execution_count": 31,
   "metadata": {},
   "outputs": [
    {
     "name": "stdout",
     "output_type": "stream",
     "text": [
      "Il primo elemento della lista [5, 'ciao', -6, 'hello', [-3, 7, 9]] è ciao\n"
     ]
    }
   ],
   "source": [
    "print(\"Il primo elemento della lista\",l,\"è\",l[1])"
   ]
  },
  {
   "cell_type": "code",
   "execution_count": 32,
   "metadata": {},
   "outputs": [
    {
     "name": "stdout",
     "output_type": "stream",
     "text": [
      "Modifichiamo il primo elemento della lista [5, 'papate', -6, 'hello', [-3, 7, 9]] con papate otteniamo la lista [5, 'papate', -6, 'hello', [-3, 7, 9]]\n"
     ]
    }
   ],
   "source": [
    "nl=input(\"Inserisci elemento con cui vuoi modficare la lista: \")\n",
    "l[1]=nl\n",
    "print(\"Modifichiamo il primo elemento della lista\",l,\"con\",nl,\"otteniamo la lista\",l)"
   ]
  },
  {
   "cell_type": "markdown",
   "metadata": {},
   "source": [
    "Lo *slicing* consente di estrarre una sottolista da una lista più grande:\n",
    "```\n",
    "lista[start:stop:step]\n",
    "```\n",
    "* `start` è l'indice da cui iniziare l'affettamento (inclusivo); se omesso, si inizia dall'inizio della lista.\n",
    "* `stop` è l'indice a cui fermarsi (esclusivo); se omesso, si prosegue fino alla fine della lista.\n",
    "* `step` è il passo tra gli indici; se omesso, il passo predefinito è 1."
   ]
  },
  {
   "cell_type": "code",
   "execution_count": 33,
   "metadata": {},
   "outputs": [
    {
     "name": "stdout",
     "output_type": "stream",
     "text": [
      "La sottolista di [5, 'papate', -6, 'hello', [-3, 7, 9]] che va dall'indice 1 all'indice 4 è [-6, 'hello', [-3, 7, 9]]\n"
     ]
    }
   ],
   "source": [
    "print(\"La sottolista di\",l,\"che va dall'indice 1 all'indice 4 è\",l[2:5:])"
   ]
  },
  {
   "cell_type": "markdown",
   "metadata": {},
   "source": [
    "Le liste supportano diversi metodi tra cui:"
   ]
  },
  {
   "cell_type": "markdown",
   "metadata": {},
   "source": [
    "* `len()` fornisce la lunghezza della lista:"
   ]
  },
  {
   "cell_type": "code",
   "execution_count": 42,
   "metadata": {},
   "outputs": [
    {
     "name": "stdout",
     "output_type": "stream",
     "text": [
      "La lunghezza della lista inserita è 5\n"
     ]
    }
   ],
   "source": [
    "print(\"La lunghezza della lista inserita è\", len(l))"
   ]
  },
  {
   "cell_type": "markdown",
   "metadata": {},
   "source": [
    "* `append()` aggiunge un elemento alla fine della lista:"
   ]
  },
  {
   "cell_type": "code",
   "execution_count": 43,
   "metadata": {},
   "outputs": [
    {
     "name": "stdout",
     "output_type": "stream",
     "text": [
      "La nuova lista è [5, 'ciao', -6, 'hello', [-3, 7, 9], 'martina']\n"
     ]
    }
   ],
   "source": [
    "e=input(\"Inserisci l'elemento da inserire nella lista: \")\n",
    "l.append(e)\n",
    "print(\"La nuova lista è\",l)"
   ]
  },
  {
   "cell_type": "markdown",
   "metadata": {},
   "source": [
    "* `insert()` inserisce un elemento in una posizione specifica:"
   ]
  },
  {
   "cell_type": "code",
   "execution_count": 40,
   "metadata": {},
   "outputs": [
    {
     "name": "stdout",
     "output_type": "stream",
     "text": [
      "La nuova lista è [5, 'ciao', -6, 'd', 'hello', [-3, 7, 9]]\n"
     ]
    }
   ],
   "source": [
    "y=input(\"Inserisci l'elemento da inserire in posizione \"+str(3)+\": \")\n",
    "l.insert(3, y)\n",
    "print(\"La nuova lista è\",l)"
   ]
  },
  {
   "cell_type": "markdown",
   "metadata": {},
   "source": [
    "* `remove()` rimuove un elemento dalla lista:"
   ]
  },
  {
   "cell_type": "code",
   "execution_count": 12,
   "metadata": {},
   "outputs": [
    {
     "name": "stdout",
     "output_type": "stream",
     "text": [
      "Togliamo l'elemento GG\n",
      "\n",
      "La nuova lista è, [5, 'ciao', -6, 'hello', [-3, 7, 9]]\n"
     ]
    }
   ],
   "source": [
    "print(\"Togliamo l'elemento\",l[3])\n",
    "l.remove(l[3])\n",
    "print(\"\\nLa nuova lista è,\",l)"
   ]
  },
  {
   "cell_type": "markdown",
   "metadata": {},
   "source": [
    "* `sort()` ordina gli elementi della lista:"
   ]
  },
  {
   "cell_type": "code",
   "execution_count": 48,
   "metadata": {},
   "outputs": [
    {
     "name": "stdout",
     "output_type": "stream",
     "text": [
      "La lista riordinata è [-43, -23, -8, 3, 9, 18, 123]\n"
     ]
    }
   ],
   "source": [
    "## Lista numerica\n",
    "n = [3, -43, 9, 18, -8, 123, -23]\n",
    "n.sort()\n",
    "print(\"La lista riordinata è\",n)"
   ]
  },
  {
   "cell_type": "code",
   "execution_count": 49,
   "metadata": {},
   "outputs": [
    {
     "name": "stdout",
     "output_type": "stream",
     "text": [
      "La lista riordinata è ['a', 'acqua', 'ciao', 'hello', 'martina']\n"
     ]
    }
   ],
   "source": [
    "## Lista stringhe\n",
    "s = [\"ciao\", \"acqua\", \"martina\", \"hello\", \"a\"]\n",
    "s.sort()\n",
    "print(\"La lista riordinata è\",s)"
   ]
  },
  {
   "cell_type": "markdown",
   "metadata": {},
   "source": [
    "* `extend()` è utilizzato per estendere una lista con gli elementi di un iterabile:"
   ]
  },
  {
   "cell_type": "code",
   "execution_count": 37,
   "metadata": {},
   "outputs": [
    {
     "name": "stdout",
     "output_type": "stream",
     "text": [
      "Aggiungendo [4, 5, 6] la lista diventa [5, 'ciao', -6, 'hello', [-3, 7, 9], 4, 5, 6]\n"
     ]
    }
   ],
   "source": [
    "l.extend([4, 5, 6])\n",
    "print(\"Aggiungendo\",[4,5,6],\"la lista diventa\",l)"
   ]
  },
  {
   "cell_type": "markdown",
   "metadata": {},
   "source": [
    "* `del`  in Python viene utilizzato per rimuovere completamente una variabile:"
   ]
  },
  {
   "cell_type": "code",
   "execution_count": 41,
   "metadata": {},
   "outputs": [
    {
     "name": "stdout",
     "output_type": "stream",
     "text": [
      "Rimuovendo il secondo elemento della lista -6 otteniamo [5, 'ciao', 'd', 'hello', [-3, 7, 9]]\n"
     ]
    }
   ],
   "source": [
    "el=l[2]\n",
    "del l[2]\n",
    "print(\"Rimuovendo\",el,\"dalla lista otteniamo\",l)"
   ]
  },
  {
   "cell_type": "markdown",
   "metadata": {},
   "source": [
    "* `pop()` rimuove e restituisce l'elemento all'indice specificato; se non viene fornito alcun indice, pop rimuove e restituisce l'ultimo elemento della lista:"
   ]
  },
  {
   "cell_type": "code",
   "execution_count": 42,
   "metadata": {},
   "outputs": [
    {
     "name": "stdout",
     "output_type": "stream",
     "text": [
      "Rimuovendo il primo elemento ciao dalla lista otteniamo [5, 'd', 'hello', [-3, 7, 9]]\n"
     ]
    }
   ],
   "source": [
    "el = l.pop(1)\n",
    "print(\"Rimuovendo il primo elemento\",el,\"dalla lista otteniamo\",l)\n"
   ]
  },
  {
   "cell_type": "markdown",
   "metadata": {},
   "source": [
    "* `join()` per concatenare gli elementi di una lista in una singola stringa, con un separatore specificato:"
   ]
  },
  {
   "cell_type": "code",
   "execution_count": 3,
   "metadata": {},
   "outputs": [
    {
     "name": "stdout",
     "output_type": "stream",
     "text": [
      "La stringa data dalla lista ['mela', 'banana', 'arancia'] con separatore - è mela-banana-arancia\n"
     ]
    }
   ],
   "source": [
    "lista = ['mela', 'banana', 'arancia']\n",
    "stringa = '-'.join(lista)\n",
    "print(\"La stringa data dalla lista\",lista,\"con separatore - è\",stringa)"
   ]
  },
  {
   "cell_type": "markdown",
   "metadata": {},
   "source": [
    "* `count()` conta quante volte un determinato elemento appare nella lista."
   ]
  },
  {
   "cell_type": "code",
   "execution_count": 12,
   "metadata": {},
   "outputs": [
    {
     "name": "stdout",
     "output_type": "stream",
     "text": [
      "il numero 2 è presente nella lista [2, 'ciao', 45, 2, 2, -4, 'hello'] 4 volte.\n"
     ]
    }
   ],
   "source": [
    "lista=[2,\"ciao\",45,2,2,-4,\"hello\"]\n",
    "print(\"il numero 2 è presente nella lista\",lista, conteggio,\"volte.\")"
   ]
  },
  {
   "cell_type": "markdown",
   "metadata": {},
   "source": [
    "### **Tuple**\n",
    "Le tuple sono simili alle liste ma immutabili, il che significa che una volta create, non possono essere modificate."
   ]
  },
  {
   "cell_type": "code",
   "execution_count": 15,
   "metadata": {},
   "outputs": [
    {
     "name": "stdout",
     "output_type": "stream",
     "text": [
      "(-2, 'ciao', 18, 'ciao', 3) è di tipo <class 'tuple'>\n"
     ]
    }
   ],
   "source": [
    "t = (-2,\"ciao\",18,\"ciao\",3)\n",
    "print(t,\"è di tipo\",type(t))"
   ]
  },
  {
   "cell_type": "markdown",
   "metadata": {},
   "source": [
    "Un elemento della tupla può essere richiamato tramite il suo indice."
   ]
  },
  {
   "cell_type": "code",
   "execution_count": 8,
   "metadata": {},
   "outputs": [
    {
     "name": "stdout",
     "output_type": "stream",
     "text": [
      "Il secondo elemento della tupla (-2, 'ciao', 18) è ciao\n"
     ]
    }
   ],
   "source": [
    "print(\"Il secondo elemento della tupla\",t,\"è\",t[1])"
   ]
  },
  {
   "cell_type": "markdown",
   "metadata": {},
   "source": [
    "Le tuple non possono essere modificate:"
   ]
  },
  {
   "cell_type": "code",
   "execution_count": 16,
   "metadata": {},
   "outputs": [
    {
     "name": "stdout",
     "output_type": "stream",
     "text": [
      "Operazione non valida \n",
      "Errore: 'tuple' object does not support item assignment\n"
     ]
    }
   ],
   "source": [
    "try:\n",
    "    t[0]=\"hello\"\n",
    "except TypeError as tp:\n",
    "    print(\"Operazione non valida \\nErrore:\",tp)"
   ]
  },
  {
   "cell_type": "markdown",
   "metadata": {},
   "source": [
    "Le tuple supportano diversi metodi tra cui:"
   ]
  },
  {
   "cell_type": "markdown",
   "metadata": {},
   "source": [
    "* `len()` restituisce la lunghezza della tupla:"
   ]
  },
  {
   "cell_type": "code",
   "execution_count": 4,
   "metadata": {},
   "outputs": [
    {
     "name": "stdout",
     "output_type": "stream",
     "text": [
      "La lunghezza della tupla è 3\n"
     ]
    }
   ],
   "source": [
    "print(\"La lunghezza della tupla è\", len(t))"
   ]
  },
  {
   "cell_type": "markdown",
   "metadata": {},
   "source": [
    "* `index()` restituisce l'indice della prima occorrenza di un determinato elemento nella tupla:"
   ]
  },
  {
   "cell_type": "code",
   "execution_count": 14,
   "metadata": {},
   "outputs": [
    {
     "name": "stdout",
     "output_type": "stream",
     "text": [
      "L'indice di 18 è 2\n"
     ]
    }
   ],
   "source": [
    "print(\"L'indice di\",t[2],\"è\", t.index(t[2]))"
   ]
  },
  {
   "cell_type": "markdown",
   "metadata": {},
   "source": [
    "* `count()` restituisce il numero di volte in cui un determinato elemento appare nella tupla:"
   ]
  },
  {
   "cell_type": "code",
   "execution_count": 18,
   "metadata": {},
   "outputs": [
    {
     "name": "stdout",
     "output_type": "stream",
     "text": [
      "La frequenza di ciao è 2\n"
     ]
    }
   ],
   "source": [
    "print(\"La frequenza di\",t[1],\"è\", t.count(t[1]))"
   ]
  },
  {
   "cell_type": "markdown",
   "metadata": {},
   "source": [
    "### **Dizionari**\n",
    "I *dizionari* sono una struttura dati che consente di memorizzare coppie di chiavi e valori."
   ]
  },
  {
   "cell_type": "code",
   "execution_count": 1,
   "metadata": {},
   "outputs": [
    {
     "name": "stdout",
     "output_type": "stream",
     "text": [
      "{'Nome': ['Martina', 'Giulia'], 'Cognome': {'Ferrari', 'Rossi'}, 1: 'studentesse'} è di tipo <class 'dict'>\n"
     ]
    }
   ],
   "source": [
    "D = {\"Nome\":[\"Martina\", \"Giulia\"],\"Cognome\":{\"Rossi\", \"Ferrari\"}, 1:\"studentesse\"}\n",
    "print(D,\"è di tipo\",type(D))"
   ]
  },
  {
   "cell_type": "markdown",
   "metadata": {},
   "source": [
    "Si può accedere ai valori di un dizionario utilizzando le chiavi corrispondenti."
   ]
  },
  {
   "cell_type": "code",
   "execution_count": 2,
   "metadata": {},
   "outputs": [
    {
     "name": "stdout",
     "output_type": "stream",
     "text": [
      "I valori associati alla chiave Cognome sono {'Ferrari', 'Rossi'}\n"
     ]
    }
   ],
   "source": [
    "print(\"I valori associati alla chiave Cognome sono\",D[\"Cognome\"])"
   ]
  },
  {
   "cell_type": "markdown",
   "metadata": {},
   "source": [
    "## **Programmazione Orientata ad Oggetti**\n",
    "\n",
    "Le *classi* sono strutture che raggruppano dati (*attributi*) e comportamenti (*metodi*) correlati in un unico *oggetto* di un determinato tipo."
   ]
  },
  {
   "cell_type": "markdown",
   "metadata": {},
   "source": [
    "### **Componenti di una classe**"
   ]
  },
  {
   "cell_type": "markdown",
   "metadata": {},
   "source": [
    "#### **Classe**"
   ]
  },
  {
   "cell_type": "markdown",
   "metadata": {},
   "source": [
    "* Le classi sono un'*astrazione* dei concetti del mondo reale.\n",
    "* La classe è un *modello* per la creazione di oggetti.\n",
    "* Un oggetto è un'*istanza* della classe, cioè una copia univoca della classe che ha le sue proprietà uniche. \n",
    "* Un oggetto prende il *tipo* dal nome della classe."
   ]
  },
  {
   "cell_type": "markdown",
   "metadata": {},
   "source": [
    "#### **Attributi**"
   ]
  },
  {
   "cell_type": "markdown",
   "metadata": {},
   "source": [
    "* Gli attributi sono variabili associate a una classe.\n",
    "* Gli attributi rappresentano le proprietà di un oggetto.\n",
    "* Gli attributi di classe sono condivisi tra tutte le istanza della classe."
   ]
  },
  {
   "cell_type": "markdown",
   "metadata": {},
   "source": [
    "#### **Metodi**"
   ]
  },
  {
   "cell_type": "markdown",
   "metadata": {},
   "source": [
    "* I metodi sono funzioni associate ad una classe.\n",
    "* I metodi rappresentano il comportamento di un oggetto."
   ]
  },
  {
   "cell_type": "markdown",
   "metadata": {},
   "source": [
    "__init__ è il metodo cotruttore che costruisce un'istanza della classe"
   ]
  },
  {
   "cell_type": "markdown",
   "metadata": {},
   "source": [
    "#### **Esempio**"
   ]
  },
  {
   "cell_type": "code",
   "execution_count": 11,
   "metadata": {},
   "outputs": [],
   "source": [
    "# Dichiaro la classe\n",
    "class Automobile: \n",
    "\n",
    "    numero_di_ruote = 4. # Attributo di Classe\n",
    "\n",
    "    # Metodo Costruttore\n",
    "    def __init__(self, marca, modello): \n",
    "        self.marca = marca # Attributo di Istanza\n",
    "        self.modello = modello # Attributo di Istanza\n",
    "\n",
    "    # Metodo di Istanza (richiama l'oggetto)\n",
    "    def stampa_info(self): \n",
    "        print(\"L'automobile è una\", self.marca, self.modello)"
   ]
  },
  {
   "cell_type": "code",
   "execution_count": 12,
   "metadata": {},
   "outputs": [],
   "source": [
    "# Creazione oggetto\n",
    "Auto1 = Automobile(\"Fiat\",\"500\") # il self diventa Auto1"
   ]
  },
  {
   "cell_type": "code",
   "execution_count": 13,
   "metadata": {},
   "outputs": [
    {
     "name": "stdout",
     "output_type": "stream",
     "text": [
      "<__main__.Automobile object at 0x00000291A4372990> è di tipo <class '__main__.Automobile'>\n"
     ]
    }
   ],
   "source": [
    "print(Auto1,\"è di tipo\",type(Auto1))"
   ]
  },
  {
   "cell_type": "code",
   "execution_count": 14,
   "metadata": {},
   "outputs": [
    {
     "name": "stdout",
     "output_type": "stream",
     "text": [
      "L'automobile è una Fiat 500\n"
     ]
    }
   ],
   "source": [
    "# Utilizzo del metodo\n",
    "Auto1.stampa_info()"
   ]
  }
 ],
 "metadata": {
  "kernelspec": {
   "display_name": "Python 3",
   "language": "python",
   "name": "python3"
  },
  "language_info": {
   "codemirror_mode": {
    "name": "ipython",
    "version": 3
   },
   "file_extension": ".py",
   "mimetype": "text/x-python",
   "name": "python",
   "nbconvert_exporter": "python",
   "pygments_lexer": "ipython3",
   "version": "3.11.2"
  }
 },
 "nbformat": 4,
 "nbformat_minor": 2
}
