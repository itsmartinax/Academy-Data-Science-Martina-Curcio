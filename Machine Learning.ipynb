{
 "cells": [
  {
   "cell_type": "markdown",
   "metadata": {},
   "source": [
    "# **Machine Learning**\n",
    "\n",
    "https://github.com/MaSTERmIKK/AulaMLandAI\n",
    "\n",
    "Il *machine learning* è un sottocampo dell'*intelligenza artificiale* che permette ai computer di imparare dai dati e migliorare le proprie prestazioni senza essere esplicitamente programmati."
   ]
  },
  {
   "cell_type": "markdown",
   "metadata": {},
   "source": [
    "Un modello è un costrutto matematico tra input(dati) e output desiderati. \n",
    "\n",
    "Il modello impara questa relazione durante il processo di addestramento, ottimizzando i suoi parametri interni basandosi su un set di dati. Una volta addestrato, il modello può essere utilizzato per fare previsioni o prendere decisioni basati su nuovi input."
   ]
  },
  {
   "cell_type": "markdown",
   "metadata": {},
   "source": [
    "## **Apprendimento Supervisionato**\n",
    "Il modello viene addestrato su un set di dati che include sia gli input che gli output (dati *etichettati*). L'obiettivo è costruire un modello che possa fare previsioni accurate su nuovi dati basandosi su questa corrispondenza."
   ]
  },
  {
   "cell_type": "markdown",
   "metadata": {},
   "source": [
    "Modelli di apprendimento supervisionato sono:\n",
    " * *Classificazione*\n",
    " * *Regressione*"
   ]
  },
  {
   "cell_type": "markdown",
   "metadata": {},
   "source": [
    "## **Apprendimento Non Supervisionato**\n",
    "\n",
    "Il modello lavora con dati che non hanno output (dati *non etichettati*). L'obiettivo è scoprire strutture nascoste dei dati."
   ]
  },
  {
   "cell_type": "markdown",
   "metadata": {},
   "source": [
    "Modelli di apprendimento non supervisionato sono:\n",
    "* *Clustering* : raggruppa i dati simili\n",
    "* *Embedding* : semplifica i dati mantenendo le caratteristiche essenziali"
   ]
  },
  {
   "cell_type": "markdown",
   "metadata": {},
   "source": [
    "## **Apprendimento per Rinforzo**\n",
    "\n",
    "Tecnica in cui un agente impara a prendere decisione ottimizzando un sistema di ricompense e punizioni attraverso tentativi ed errori."
   ]
  },
  {
   "cell_type": "markdown",
   "metadata": {},
   "source": [
    "## **Overfitting e Underfitting**"
   ]
  },
  {
   "cell_type": "markdown",
   "metadata": {},
   "source": [
    "* **Overfitting**: si verifica quando un modello impara troppo bene i dettagli dei dati di addestramento, inclusi i rumori e le anomalie, a scapito delle prestazioni sui nuovi dati."
   ]
  },
  {
   "cell_type": "markdown",
   "metadata": {},
   "source": [
    "* **Underfitting**:  si verifica quando un modello è troppo semplice per catturare la struttura dei dati, risultando in una scarsa performance sia sui dati di addestramento che su quelli di test."
   ]
  },
  {
   "cell_type": "markdown",
   "metadata": {},
   "source": [
    "## **Reti Neurali**\n",
    "\n",
    "Le reti neurali sono una classe di modelli nel machine learning ispirati al cervello umano."
   ]
  },
  {
   "cell_type": "markdown",
   "metadata": {},
   "source": [
    "Sono composto da nodi (*neuroni*) organizzanti in strati (*layers*)."
   ]
  },
  {
   "cell_type": "markdown",
   "metadata": {},
   "source": [
    "### **Struttura Reti Neurali**\n",
    "\n",
    "* **Layers**: i dati vengono inseriti attraverso l'*input layer*, elaborati attraverso uno o più *hidden layers*, e l'output viene prodotto dal *output layer*.\n",
    "\n",
    "* **Connessioni**: le connessioni tra neuroni sono rappresenttate dalle freccie; ogni freccia trasporta l'output da un neurone all'altro e l'output di ogni neurone è pesato da parametri che sono ottimizzati durante il processo di apprendimento.\n",
    "\n",
    "* **Processo di Apprendimento**: durante la fase di training, la rete neurale apprende ottimizzando questi pesi per minimizzare la differeza tra l'output previsto dalla rete e l'output effettivo (*target*); questo processo è guidato da un algoritmo di ottimizzazione e una *loss function* che misura l'errore di previsione."
   ]
  }
 ],
 "metadata": {
  "kernelspec": {
   "display_name": "Python 3",
   "language": "python",
   "name": "python3"
  },
  "language_info": {
   "name": "python",
   "version": "3.11.2"
  }
 },
 "nbformat": 4,
 "nbformat_minor": 2
}
