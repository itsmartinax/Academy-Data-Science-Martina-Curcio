{
 "cells": [
  {
   "cell_type": "markdown",
   "metadata": {},
   "source": [
    "# **Esercizio Numpy-Pandas-Matplotlib**\n",
    "\n",
    "L'obiettivo di questo esercizio è generare un set di dati di serie temporali utilizzando NumPy, analizzarli con pandas e visualizzare i risultati usando Matplotlib."
   ]
  },
  {
   "cell_type": "markdown",
   "metadata": {},
   "source": [
    "1. **Generazione dei Dati**: Utilizzare NumPy per generare una serie temporale di 365 giorni di dati, simulando il numero di visitatori giornalieri in ospedale. Assumere che il numero medio di visitatori sia 1200 con una deviazione standard di 900. Inoltre, aggiungere un trend decrescente nel tempo per simulare l'aumento della popolarità dell'ospedale."
   ]
  },
  {
   "cell_type": "code",
   "execution_count": 7,
   "metadata": {},
   "outputs": [],
   "source": [
    "import numpy as np\n",
    "from scipy.stats import truncnorm"
   ]
  },
  {
   "cell_type": "code",
   "execution_count": 30,
   "metadata": {},
   "outputs": [],
   "source": [
    "visitatori = truncnorm.rvs((300-1200)/900, (10000-1200)/900, loc=1200, scale=900, size=305, random_state=True)\n",
    "visitatori=visitatori.astype(int)"
   ]
  },
  {
   "cell_type": "code",
   "execution_count": 31,
   "metadata": {},
   "outputs": [
    {
     "data": {
      "text/plain": [
       "array([1221, 1849,  300, 1002,  681,  553,  767, 1085, 1183, 1456, 1225,\n",
       "       1765,  805, 2340,  381, 1731, 1222, 1495,  666,  792, 2067, 2938,\n",
       "       1023, 1782, 2333, 2414,  535,  414,  732, 2340,  568, 1229, 2825,\n",
       "       1444, 1781, 1027, 1768, 2175,  355, 1925, 3315, 1919,  959, 2033,\n",
       "        580, 1280, 2483,  985,  973,  643,  358, 1750,  820,  929, 1363,\n",
       "        453, 1526,  681, 1557, 1799,  578, 1215, 1787, 1216,  444, 1450,\n",
       "       1716, 1409, 2710, 1552, 2456,  660,  664, 2087, 1184,  722, 2591,\n",
       "       1089, 1926, 1863, 2362, 1629, 1927, 1091,  938, 2420, 1242, 2898,\n",
       "       1716, 1625,  607, 2750, 1284, 1535, 1204,  872, 2456, 1525,  308,\n",
       "       1615, 1049, 1432, 2374, 1107, 2483, 1628,  348, 2604, 1778, 3756,\n",
       "        737,  659, 2624, 1792,  487, 1939, 1934, 2564, 1827,  629,  360,\n",
       "        378,  384,  891, 2267, 1456, 1483, 2201,  629,  956, 1550, 2955,\n",
       "       1500,  356, 2066,  864, 2086, 1166, 2281, 1917, 1490,  657,  471,\n",
       "        623,  430,  590,  849, 1831, 1497,  338,  502, 2926, 1514,  803,\n",
       "        903, 1908,  786, 1541, 2960, 2218,  878, 1368, 1621, 2156,  703,\n",
       "        356,  497, 1353, 1592, 1516, 1031, 3308, 1538, 1151, 1480, 1912,\n",
       "       1729,  928,  488, 1132, 1642,  817, 1931,  488,  919, 2079,  782,\n",
       "       1663, 1428, 2575,  925,  487, 1886, 1984, 2479, 2620,  342,  867,\n",
       "       1614, 2746, 2755, 1491, 2521, 1667, 1170, 1353, 1588, 1477, 2583,\n",
       "       2539, 1179, 2880,  740,  634,  654, 1391,  365, 2737, 2150,  345,\n",
       "        745, 1059,  645, 2093, 1083, 2676, 1542, 2343, 2211, 2467, 1303,\n",
       "       1470, 2060,  969, 1361, 1577,  347, 1566, 1253, 2087, 1027, 2406,\n",
       "       1534,  762, 2029, 1604,  455, 1227, 1751, 2538,  301, 3056, 1144,\n",
       "       3011, 1589, 2156, 1527, 1638,  969, 1552, 1924, 2261, 1938, 1795,\n",
       "       2284, 1041, 1732, 1285, 1155, 1209, 1191, 1031, 1625, 1246, 3011,\n",
       "       1748,  793, 1239, 1081, 2057, 2348, 2459, 1714,  939,  903, 2248,\n",
       "       1434, 2071, 1523, 1881, 1417, 1980, 1516, 1314, 1080,  492, 1147,\n",
       "        522, 3166,  757, 2101, 2327, 1773, 1517,  712])"
      ]
     },
     "execution_count": 31,
     "metadata": {},
     "output_type": "execute_result"
    }
   ],
   "source": [
    "visitatori"
   ]
  },
  {
   "cell_type": "markdown",
   "metadata": {},
   "source": [
    "2. **Creazione del DataFrame**: Creare un DataFrame pandas con le date come indice e il numero di visitatori come colonna e una collonna casuale della patologia scelta fra 3 (ossa, cuore, testa)."
   ]
  },
  {
   "cell_type": "code",
   "execution_count": 13,
   "metadata": {},
   "outputs": [],
   "source": [
    "import pandas as pd\n",
    "import random"
   ]
  },
  {
   "cell_type": "code",
   "execution_count": 32,
   "metadata": {},
   "outputs": [],
   "source": [
    "date_range = pd.date_range('2023-01-01', '2023-12-31')\n",
    "date_selezionate = np.random.choice(date_range, size=305, replace=False)\n",
    "date = np.sort(date_selezionate)"
   ]
  },
  {
   "cell_type": "code",
   "execution_count": 33,
   "metadata": {},
   "outputs": [],
   "source": [
    "base_patologia=['ossa','cuore','testa']\n",
    "patologia = random.choices(base_patologia, k=305)"
   ]
  },
  {
   "cell_type": "code",
   "execution_count": 34,
   "metadata": {},
   "outputs": [],
   "source": [
    "dataset ={\n",
    "    'Data': date,\n",
    "    'Visitatori': visitatori,\n",
    "    'Patologia':patologia\n",
    "}"
   ]
  },
  {
   "cell_type": "code",
   "execution_count": 35,
   "metadata": {},
   "outputs": [],
   "source": [
    "df=pd.DataFrame(dataset)"
   ]
  },
  {
   "cell_type": "code",
   "execution_count": 36,
   "metadata": {},
   "outputs": [
    {
     "data": {
      "text/html": [
       "<div>\n",
       "<style scoped>\n",
       "    .dataframe tbody tr th:only-of-type {\n",
       "        vertical-align: middle;\n",
       "    }\n",
       "\n",
       "    .dataframe tbody tr th {\n",
       "        vertical-align: top;\n",
       "    }\n",
       "\n",
       "    .dataframe thead th {\n",
       "        text-align: right;\n",
       "    }\n",
       "</style>\n",
       "<table border=\"1\" class=\"dataframe\">\n",
       "  <thead>\n",
       "    <tr style=\"text-align: right;\">\n",
       "      <th></th>\n",
       "      <th>Data</th>\n",
       "      <th>Visitatori</th>\n",
       "      <th>Patologia</th>\n",
       "    </tr>\n",
       "  </thead>\n",
       "  <tbody>\n",
       "    <tr>\n",
       "      <th>0</th>\n",
       "      <td>2023-01-01</td>\n",
       "      <td>1221</td>\n",
       "      <td>cuore</td>\n",
       "    </tr>\n",
       "    <tr>\n",
       "      <th>1</th>\n",
       "      <td>2023-01-02</td>\n",
       "      <td>1849</td>\n",
       "      <td>ossa</td>\n",
       "    </tr>\n",
       "    <tr>\n",
       "      <th>2</th>\n",
       "      <td>2023-01-03</td>\n",
       "      <td>300</td>\n",
       "      <td>ossa</td>\n",
       "    </tr>\n",
       "    <tr>\n",
       "      <th>3</th>\n",
       "      <td>2023-01-04</td>\n",
       "      <td>1002</td>\n",
       "      <td>ossa</td>\n",
       "    </tr>\n",
       "    <tr>\n",
       "      <th>4</th>\n",
       "      <td>2023-01-05</td>\n",
       "      <td>681</td>\n",
       "      <td>ossa</td>\n",
       "    </tr>\n",
       "  </tbody>\n",
       "</table>\n",
       "</div>"
      ],
      "text/plain": [
       "        Data  Visitatori Patologia\n",
       "0 2023-01-01        1221     cuore\n",
       "1 2023-01-02        1849      ossa\n",
       "2 2023-01-03         300      ossa\n",
       "3 2023-01-04        1002      ossa\n",
       "4 2023-01-05         681      ossa"
      ]
     },
     "execution_count": 36,
     "metadata": {},
     "output_type": "execute_result"
    }
   ],
   "source": [
    "df.head()"
   ]
  },
  {
   "cell_type": "markdown",
   "metadata": {},
   "source": [
    "3. Analisi dei Dati: Calcolare il numero medio di visitatori per mese e la\n",
    "deviazione standard e quale patologia è più e quale meno trovata."
   ]
  },
  {
   "cell_type": "code",
   "execution_count": 40,
   "metadata": {},
   "outputs": [
    {
     "name": "stdout",
     "output_type": "stream",
     "text": [
      "Data\n",
      "1     1306.480000\n",
      "2     1502.458333\n",
      "3     1264.000000\n",
      "4     1643.181818\n",
      "5     1477.689655\n",
      "6     1342.600000\n",
      "7     1423.851852\n",
      "8     1543.928571\n",
      "9     1532.653846\n",
      "10    1594.444444\n",
      "11    1555.500000\n",
      "12    1573.640000\n",
      "Name: Visitatori, dtype: float64\n"
     ]
    }
   ],
   "source": [
    "media_mensile = df.groupby(df['Data'].dt.month)['Visitatori'].mean()\n",
    "print(media_mensile)"
   ]
  },
  {
   "cell_type": "code",
   "execution_count": 41,
   "metadata": {},
   "outputs": [
    {
     "name": "stdout",
     "output_type": "stream",
     "text": [
      "Data\n",
      "1     665.685932\n",
      "2     826.583065\n",
      "3     633.922063\n",
      "4     680.778520\n",
      "5     896.121010\n",
      "6     716.618215\n",
      "7     780.352223\n",
      "8     760.233050\n",
      "9     791.223101\n",
      "10    733.510806\n",
      "11    518.834731\n",
      "12    672.988539\n",
      "Name: Visitatori, dtype: float64\n"
     ]
    }
   ],
   "source": [
    "std_mensile = df.groupby(df['Data'].dt.month)['Visitatori'].std()\n",
    "print(std_mensile)"
   ]
  },
  {
   "cell_type": "code",
   "execution_count": 42,
   "metadata": {},
   "outputs": [
    {
     "name": "stdout",
     "output_type": "stream",
     "text": [
      "Patologia\n",
      "cuore    105\n",
      "testa    101\n",
      "ossa      99\n",
      "Name: count, dtype: int64\n"
     ]
    }
   ],
   "source": [
    "frequenza_patologie = df['Patologia'].value_counts()\n",
    "print(frequenza_patologie)"
   ]
  }
 ],
 "metadata": {
  "kernelspec": {
   "display_name": "Python 3",
   "language": "python",
   "name": "python3"
  },
  "language_info": {
   "codemirror_mode": {
    "name": "ipython",
    "version": 3
   },
   "file_extension": ".py",
   "mimetype": "text/x-python",
   "name": "python",
   "nbconvert_exporter": "python",
   "pygments_lexer": "ipython3",
   "version": "3.11.2"
  }
 },
 "nbformat": 4,
 "nbformat_minor": 2
}
