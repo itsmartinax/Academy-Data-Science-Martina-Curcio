{
 "cells": [
  {
   "cell_type": "markdown",
   "metadata": {},
   "source": [
    "# **Generative AI**\n",
    "\n",
    "La *Generative AI* si riferisce a quegli algoritmi di intelligenza artificiale capaci di generare nuovi contenuti a partire da dati esistenti."
   ]
  },
  {
   "cell_type": "markdown",
   "metadata": {},
   "source": [
    "I *Large Language Model* (LLM) sono un sottoinsieme della Generative AI specializzati nella generazione e comprensione del linguaggio natuale."
   ]
  },
  {
   "cell_type": "markdown",
   "metadata": {},
   "source": [
    "## **Struttura di una Gen AI**"
   ]
  },
  {
   "cell_type": "markdown",
   "metadata": {},
   "source": [
    "* *Modelli Open*: accessibili al pubblico e possono essere utilizzati o modificati liberamente.\n",
    "\n",
    "* *Third-Party*: sviluppati e gestiti da organizzazioni che possono imporre restrizione sull'uso."
   ]
  },
  {
   "cell_type": "markdown",
   "metadata": {},
   "source": [
    "* *Input Types*: formato di dati che il modello può accettare."
   ]
  },
  {
   "cell_type": "markdown",
   "metadata": {},
   "source": [
    "* *Dimensions*: dimensione del modello in termini di numero di parametri o larghezza dei layers."
   ]
  },
  {
   "cell_type": "markdown",
   "metadata": {},
   "source": [
    "* *Agents*: componenti software che interagiscono con il modello per eseguire compiti specifici."
   ]
  },
  {
   "cell_type": "markdown",
   "metadata": {},
   "source": [
    "* *Istruct*: istruzioni specifiche nell'elaborazione di risposte"
   ]
  },
  {
   "cell_type": "markdown",
   "metadata": {},
   "source": [
    "* *Fine-Tuning*: processo di addestramento di un modello pre-addestrato su un dataset specifico per migliorare le prestazioni in compiti specifici."
   ]
  },
  {
   "cell_type": "markdown",
   "metadata": {},
   "source": [
    "* *Quantized Models*: modelli quantizzati utilizzano una precisione inferiore per i calcoli, permettendo di ridurre l'uso della memoria e migliorare le prestazioni di inferenza."
   ]
  },
  {
   "cell_type": "markdown",
   "metadata": {},
   "source": [
    "* *Prompting*: processo di formulazione di domande o comandi al modelli in modo che generi le risposte desiderate; principalmente servono:\n",
    "    - funzione\n",
    "    - esempio\n",
    "    - contesto"
   ]
  },
  {
   "cell_type": "markdown",
   "metadata": {},
   "source": [
    "- `load_model_and_tokenizer`"
   ]
  }
 ],
 "metadata": {
  "language_info": {
   "name": "python"
  }
 },
 "nbformat": 4,
 "nbformat_minor": 2
}
