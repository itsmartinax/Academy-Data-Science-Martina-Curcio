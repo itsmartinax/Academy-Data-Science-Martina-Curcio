{
 "cells": [
  {
   "cell_type": "markdown",
   "metadata": {},
   "source": [
    "# **Librerie**"
   ]
  },
  {
   "cell_type": "markdown",
   "metadata": {},
   "source": [
    "## **Numpy**\n",
    "\n",
    "Numpy è una libreria fondamentale per il calcolo scientifico in Python."
   ]
  },
  {
   "cell_type": "code",
   "execution_count": 2,
   "metadata": {},
   "outputs": [],
   "source": [
    "import numpy as np"
   ]
  },
  {
   "cell_type": "markdown",
   "metadata": {},
   "source": [
    "### **Creazione Array**"
   ]
  },
  {
   "cell_type": "markdown",
   "metadata": {},
   "source": [
    "* `np.array()` crea un array NumPy a partire da una sequenza in input:"
   ]
  },
  {
   "cell_type": "markdown",
   "metadata": {},
   "source": [
    "* `np.ones()` crea un array con tutti gli elementi uguali a 1 specificando la forma dell'array (numero di righe e colonne):"
   ]
  },
  {
   "cell_type": "markdown",
   "metadata": {},
   "source": [
    "* `np.zeros()` crea un array con tutti gli elementi uguali a 0 specificando la forma.:"
   ]
  },
  {
   "cell_type": "markdown",
   "metadata": {},
   "source": [
    "* `np.eye()` crea una matrice identità, dove gli elementi della diagonale principale sono 1 e tutti gli altri sono 0, specificando la dimensione della matrice:"
   ]
  },
  {
   "cell_type": "markdown",
   "metadata": {},
   "source": [
    "* `np.arange(start:stop:step)` crea un array contenete una sequenza di numeri (simile a `range()` di Pyhton):\n",
    "\n",
    "    - `start` è valore iniziale (inclusivo); default è 0.\n",
    "    - `stop` è il valore finale (esclusivo).\n",
    "    - `step` differenza tra due valori consecutivi; default è 1."
   ]
  },
  {
   "cell_type": "code",
   "execution_count": 3,
   "metadata": {},
   "outputs": [
    {
     "name": "stdout",
     "output_type": "stream",
     "text": [
      "[2 4 6 8]\n"
     ]
    }
   ],
   "source": [
    "array = np.arange(2, 10, 2)\n",
    "print(array)"
   ]
  },
  {
   "cell_type": "markdown",
   "metadata": {},
   "source": [
    "* `np.linspace(start,stop,num)` genera un array di numeri equamente distanziati tra un valore iniziale e uno finale:\n",
    "\n",
    "    - `start`è valore iniziale (incluso).\n",
    "    - `stop`è Il valore finale (di default incluso).\n",
    "    - `num`è il numero di valori da generare."
   ]
  },
  {
   "cell_type": "code",
   "execution_count": 4,
   "metadata": {},
   "outputs": [
    {
     "name": "stdout",
     "output_type": "stream",
     "text": [
      "[ 0.   2.5  5.   7.5 10. ]\n"
     ]
    }
   ],
   "source": [
    "array = np.linspace(0, 10, 5)\n",
    "print(array)"
   ]
  },
  {
   "cell_type": "markdown",
   "metadata": {},
   "source": [
    "* `np.random` fornisce vari metodi per generare array con numeri casuali:\n",
    "\n",
    "    - `np.random.rand()` genera numeri casuali uniformemente distribuiti nell'intervallo $[0, 1)$ specificando le dimensioni.\n",
    "\n",
    "    - `np.random.randn()` genera numeri casuali normalmente distribuiti (distribuzione normale standard, media 0 e deviazione standard 1).\n",
    "\n",
    "    - `np.random.randint()` genera numeri interi casuali nell'intervallo specificato date le dimensioni; il limite superiore è esclusivo.\n",
    "\n",
    "    - `np.random.choice()` seleziona casualmente elementi da un array dato date le dimensioni.\n",
    "    \n",
    "    - `np.random.uniform()` genera numeri casuali uniformemente distribuiti in un intervallo specificato date le dimensioni."
   ]
  },
  {
   "cell_type": "code",
   "execution_count": 5,
   "metadata": {},
   "outputs": [
    {
     "name": "stdout",
     "output_type": "stream",
     "text": [
      "[[0.91524837 0.1894257  0.96604892]\n",
      " [0.15079908 0.72892605 0.69385763]]\n"
     ]
    }
   ],
   "source": [
    "rand = np.random.rand(2, 3)\n",
    "print(rand)"
   ]
  },
  {
   "cell_type": "code",
   "execution_count": 6,
   "metadata": {},
   "outputs": [
    {
     "name": "stdout",
     "output_type": "stream",
     "text": [
      "[[ 0.72705665 -0.47558282 -0.25027418]\n",
      " [-1.93577859 -0.98094544  1.0522268 ]]\n"
     ]
    }
   ],
   "source": [
    "randn = np.random.randn(2, 3)\n",
    "print(randn)"
   ]
  },
  {
   "cell_type": "code",
   "execution_count": 7,
   "metadata": {},
   "outputs": [
    {
     "name": "stdout",
     "output_type": "stream",
     "text": [
      "[[40  9  9]\n",
      " [89 51 30]\n",
      " [99 28 91]]\n"
     ]
    }
   ],
   "source": [
    "randint = np.random.randint(1, 100, size=(3, 3))\n",
    "print(randint)"
   ]
  },
  {
   "cell_type": "code",
   "execution_count": 8,
   "metadata": {},
   "outputs": [
    {
     "name": "stdout",
     "output_type": "stream",
     "text": [
      "[2 1 1]\n"
     ]
    }
   ],
   "source": [
    "choice = np.random.choice([1, 2, 3, 4, 5], size=3)\n",
    "print(choice)"
   ]
  },
  {
   "cell_type": "markdown",
   "metadata": {},
   "source": [
    "uniform = np.random.uniform(-1, 1, size=(2, 3))\n",
    "print(uniform)"
   ]
  },
  {
   "cell_type": "markdown",
   "metadata": {},
   "source": [
    "### **Proprietà Array**"
   ]
  },
  {
   "cell_type": "markdown",
   "metadata": {},
   "source": [
    "* `np.dytipe()` specifica il tipo di dati contenuti nell'array"
   ]
  },
  {
   "cell_type": "markdown",
   "metadata": {},
   "source": [
    "* `np.shape()` restituisce una tupla che rappresenta le dimensioni dell'array"
   ]
  },
  {
   "cell_type": "markdown",
   "metadata": {},
   "source": [
    "* `np.reshape()` cambia la forma di un array senza modificarne i dati."
   ]
  },
  {
   "cell_type": "markdown",
   "metadata": {
    "vscode": {
     "languageId": "plaintext"
    }
   },
   "source": [
    "* `np.ndim()`"
   ]
  },
  {
   "cell_type": "markdown",
   "metadata": {},
   "source": [
    "#### **Slicing**\n",
    "\n",
    "Lo *slicing* consente di estrarre una parte di array da un array più grande:\n",
    "```\n",
    "stringa[start:stop:step]\n",
    "```\n",
    "* `start` è l'indice da cui iniziare l'affettamento (inclusivo); se omesso, si inizia dall'inizio dell'array.\n",
    "* `stop` è l'indice a cui fermarsi (esclusivo); se omesso, si prosegue fino alla fine dell'array.\n",
    "* `step` è il passo tra gli indici; se omesso, il passo predefinito è 1."
   ]
  },
  {
   "cell_type": "markdown",
   "metadata": {},
   "source": [
    "#### **Fancy Indexing**\n",
    "\n",
    "*Fancy indexing* è una tecnica che permette di selezione elementi di un array utilizzando array di indici interni."
   ]
  },
  {
   "cell_type": "markdown",
   "metadata": {},
   "source": [
    "### **Funzioni Matematiche**"
   ]
  },
  {
   "cell_type": "markdown",
   "metadata": {},
   "source": [
    "* `np.sum()`"
   ]
  },
  {
   "cell_type": "markdown",
   "metadata": {},
   "source": [
    "* `np.mean()`"
   ]
  },
  {
   "cell_type": "markdown",
   "metadata": {},
   "source": [
    "* `np.std()`"
   ]
  },
  {
   "cell_type": "markdown",
   "metadata": {},
   "source": [
    "### **Algebra Lineare**\n",
    "NumPy include un modulo per l'algebra lineare `numpy.linalg`."
   ]
  },
  {
   "cell_type": "markdown",
   "metadata": {},
   "source": [
    "* `np.dot()`"
   ]
  },
  {
   "cell_type": "markdown",
   "metadata": {},
   "source": [
    "* `np.matmul()`"
   ]
  },
  {
   "cell_type": "markdown",
   "metadata": {},
   "source": [
    "* `np.linalg.det()`"
   ]
  },
  {
   "cell_type": "markdown",
   "metadata": {},
   "source": [
    "* `np.linalg.eig()`"
   ]
  },
  {
   "cell_type": "markdown",
   "metadata": {},
   "source": [
    "* `np.linalg.solve()`"
   ]
  },
  {
   "cell_type": "markdown",
   "metadata": {},
   "source": [
    "* `np.linalg.norm()`"
   ]
  },
  {
   "cell_type": "markdown",
   "metadata": {},
   "source": [
    "## **Pandas**\n",
    "Pandas è una libreria per Python per la manipolazione e l'analisi dei dati introducendo due strutture fondamentali:\n",
    "\n",
    "* **Dataframe**\n",
    "Sono una struttura dati bidimensionale composto da righe e colonne, dove ogni colonna può contenere dati di un tipo specifico.\n",
    "\n",
    "* **Series**\n",
    "Sono una struttura dati unidimensionale vista come una colonna di Dataframe. Ogni serie ha un solo tipo di dato."
   ]
  },
  {
   "cell_type": "code",
   "execution_count": 9,
   "metadata": {},
   "outputs": [],
   "source": [
    "import pandas as pd"
   ]
  },
  {
   "cell_type": "markdown",
   "metadata": {},
   "source": [
    "### **Creare un Dataframe**"
   ]
  },
  {
   "cell_type": "markdown",
   "metadata": {},
   "source": [
    "* `pd.read_csv() `"
   ]
  },
  {
   "cell_type": "markdown",
   "metadata": {},
   "source": [
    "* `pd.DataFrame()`"
   ]
  },
  {
   "cell_type": "code",
   "execution_count": 10,
   "metadata": {},
   "outputs": [
    {
     "name": "stdout",
     "output_type": "stream",
     "text": [
      "      Nome  Età    Città\n",
      "0  Martina   25   Milano\n",
      "1    Alice   30     Roma\n",
      "2    Carla   22  Cosenza\n"
     ]
    }
   ],
   "source": [
    "data = {\n",
    "    'Nome':['Martina','Alice','Carla'],\n",
    "    'Età':[25,30,22],\n",
    "    'Città':['Milano','Roma','Cosenza']\n",
    "}\n",
    "\n",
    "df=pd.DataFrame(data)\n",
    "\n",
    "print(df)"
   ]
  },
  {
   "cell_type": "markdown",
   "metadata": {},
   "source": [
    "### **Operazioni tra Dataframe**"
   ]
  },
  {
   "cell_type": "code",
   "execution_count": 13,
   "metadata": {},
   "outputs": [
    {
     "name": "stdout",
     "output_type": "stream",
     "text": [
      "         Data   Città  Prodotto  Vendite\n",
      "0  2021-01-01    Roma     Mouse      100\n",
      "1  2021-01-01  Milano  Tastiera      200\n",
      "2  2021-01-01  Napoli     Mouse      150\n",
      "3  2021-01-02    Roma  Tastiera      300\n",
      "4  2021-01-02  Milano     Mouse      250\n"
     ]
    }
   ],
   "source": [
    "# Dati di esempio\n",
    "data = {\n",
    "    'Data': ['2021-01-01', '2021-01-01', '2021-01-01', '2021-01-02', '2021-01-02'],\n",
    "    'Città': ['Roma', 'Milano', 'Napoli', 'Roma', 'Milano'],\n",
    "    'Prodotto': ['Mouse', 'Tastiera', 'Mouse', 'Tastiera', 'Mouse'],\n",
    "    'Vendite': [100, 200, 150, 300, 250]\n",
    "}\n",
    "\n",
    "# Creazione del DataFrame\n",
    "df = pd.DataFrame(data)\n",
    "print(df)"
   ]
  },
  {
   "cell_type": "markdown",
   "metadata": {},
   "source": [
    "* **Indicizzazione avanzata**: Pandas permette un'indicizzazione flessibile e sofisticata, facilitando l'accesso ai dati e la loro manipolazione. Per esempio, l'uso di indici gerarchici (MultiIndex) consente di lavorare con dati ad alta dimensionalità in strutture tabulari bidimensionali."
   ]
  },
  {
   "cell_type": "markdown",
   "metadata": {},
   "source": [
    "* **Unione e Concatenazione**: è possibile combinare\n",
    "facilmente diverse fonti di dati attraverso operazioni\n",
    "come merge per unire DataFrame simili a un join SQL, o\n",
    "concat per concatenare DataFrame lungo un asse specifico,\n",
    "gestendo anche indici che non si allinea."
   ]
  },
  {
   "cell_type": "markdown",
   "metadata": {},
   "source": [
    "* **Risistemazione e Pivot**: sono metodi potenti che permettono di trasformare i dati, facilitando la ristrutturazione e la creazione di tabelle pivot; questo è utile per riorganizzare i dati in un formato più appropriato per l'analisi specifica."
   ]
  },
  {
   "cell_type": "code",
   "execution_count": 12,
   "metadata": {},
   "outputs": [
    {
     "name": "stdout",
     "output_type": "stream",
     "text": [
      "Città     Milano  Napoli   Roma\n",
      "Prodotto                       \n",
      "Mouse      250.0   150.0  100.0\n",
      "Tastiera   200.0     NaN  300.0\n"
     ]
    }
   ],
   "source": [
    "# Creazione della tabella pivot\n",
    "pivot_df = df.pivot_table(values='Vendite', index='Prodotto', columns='Città', aggfunc='mean')\n",
    "\n",
    "# Stampa della tabella pivot\n",
    "print(pivot_df)"
   ]
  },
  {
   "cell_type": "markdown",
   "metadata": {},
   "source": [
    "* **GroupBy**: questa tecnica, ispirata da una funzionalità simile presente in SQL, permette di dividere i dati in gruppi, applicare una funzione a ciascun gruppo indipendentemente, e combinare i risultati in una struttura di dati; è estremamente utile per aggregazioni complesse, trasformazioni e filtraggi."
   ]
  },
  {
   "cell_type": "code",
   "execution_count": 14,
   "metadata": {},
   "outputs": [
    {
     "name": "stdout",
     "output_type": "stream",
     "text": [
      "          Vendite\n",
      "Prodotto         \n",
      "Mouse         500\n",
      "Tastiera      500\n"
     ]
    },
    {
     "name": "stderr",
     "output_type": "stream",
     "text": [
      "C:\\Users\\curci\\AppData\\Local\\Temp\\ipykernel_9524\\3753783819.py:2: FutureWarning: The default value of numeric_only in DataFrameGroupBy.sum is deprecated. In a future version, numeric_only will default to False. Either specify numeric_only or select only columns which should be valid for the function.\n",
      "  grouped_df = df.groupby('Prodotto').sum()\n"
     ]
    }
   ],
   "source": [
    "# Utilizzo di groupby per aggregare i dati\n",
    "grouped_df = df.groupby('Prodotto').sum()\n",
    "\n",
    "# Stampa del DataFrame aggregato\n",
    "print(grouped_df)"
   ]
  },
  {
   "cell_type": "markdown",
   "metadata": {},
   "source": [
    "* **Gestione del tempo**: Pandas offre robuste funzionalità per la\n",
    "manipolazione delle serie temporali, che includono la generazione di\n",
    "periodi di tempo, la conversione di frequenze, il windowing o rolling\n",
    "statistics, e la manipolazione di date e orari."
   ]
  },
  {
   "cell_type": "markdown",
   "metadata": {},
   "source": [
    "### **Visualizzazione dei Dati**"
   ]
  },
  {
   "cell_type": "markdown",
   "metadata": {},
   "source": [
    "* `df.head()`"
   ]
  },
  {
   "cell_type": "markdown",
   "metadata": {},
   "source": [
    "* `df.tail()`"
   ]
  },
  {
   "cell_type": "markdown",
   "metadata": {},
   "source": [
    "### **Pulizia dei Dati**"
   ]
  },
  {
   "cell_type": "markdown",
   "metadata": {},
   "source": [
    "* `df.drop_duplicates()`"
   ]
  },
  {
   "cell_type": "markdown",
   "metadata": {},
   "source": [
    "* `df.dropna()`"
   ]
  },
  {
   "cell_type": "markdown",
   "metadata": {},
   "source": [
    "* `df[].fillna(,inplace=)`"
   ]
  }
 ],
 "metadata": {
  "kernelspec": {
   "display_name": "Python 3",
   "language": "python",
   "name": "python3"
  },
  "language_info": {
   "codemirror_mode": {
    "name": "ipython",
    "version": 3
   },
   "file_extension": ".py",
   "mimetype": "text/x-python",
   "name": "python",
   "nbconvert_exporter": "python",
   "pygments_lexer": "ipython3",
   "version": "3.11.2"
  }
 },
 "nbformat": 4,
 "nbformat_minor": 2
}
