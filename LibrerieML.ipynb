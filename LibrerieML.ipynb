{
 "cells": [
  {
   "cell_type": "markdown",
   "metadata": {},
   "source": [
    "# **Librerie**"
   ]
  },
  {
   "cell_type": "markdown",
   "metadata": {},
   "source": [
    "## **Numpy**\n",
    "\n",
    "Numpy è una libreria fondamentale per il calcolo scientifico in Python."
   ]
  },
  {
   "cell_type": "markdown",
   "metadata": {},
   "source": [
    "### **Creazione Array**"
   ]
  },
  {
   "cell_type": "markdown",
   "metadata": {},
   "source": [
    "* `np.array()` "
   ]
  },
  {
   "cell_type": "markdown",
   "metadata": {},
   "source": [
    "* `np.ones()`"
   ]
  },
  {
   "cell_type": "markdown",
   "metadata": {},
   "source": [
    "* `np.zeros()`"
   ]
  },
  {
   "cell_type": "markdown",
   "metadata": {},
   "source": [
    "* `np.eye()`"
   ]
  },
  {
   "cell_type": "markdown",
   "metadata": {},
   "source": [
    "* `np.arange()` crea un array contenete una sequenza di numeri (simile a `range()` di Pyhton)."
   ]
  },
  {
   "cell_type": "markdown",
   "metadata": {},
   "source": [
    "### **Proprietà Array**"
   ]
  },
  {
   "cell_type": "markdown",
   "metadata": {},
   "source": [
    "* `np.dytipe()` specifica il tipo di dati contenuti nell'array"
   ]
  },
  {
   "cell_type": "markdown",
   "metadata": {},
   "source": [
    "* `np.shape()` restituisce una tupla che rappresenta le dimensioni dell'array"
   ]
  },
  {
   "cell_type": "markdown",
   "metadata": {},
   "source": [
    "* `np.reshape()` cambia la forma di un array senza modificarne i dati."
   ]
  },
  {
   "cell_type": "markdown",
   "metadata": {
    "vscode": {
     "languageId": "plaintext"
    }
   },
   "source": [
    "\n",
    "`np.ndim()`\n",
    "\n",
    "`np.sum()`\n",
    "`np.mean()`\n"
   ]
  },
  {
   "cell_type": "markdown",
   "metadata": {},
   "source": [
    "#### **Slicing**\n",
    "\n",
    "Lo *slicing* consente di estrarre una parte di array da un array più grande:\n",
    "```\n",
    "stringa[start:stop:step]\n",
    "```\n",
    "* `start` è l'indice da cui iniziare l'affettamento (inclusivo); se omesso, si inizia dall'inizio dell'array.\n",
    "* `stop` è l'indice a cui fermarsi (esclusivo); se omesso, si prosegue fino alla fine dell'array.\n",
    "* `step` è il passo tra gli indici; se omesso, il passo predefinito è 1."
   ]
  },
  {
   "cell_type": "markdown",
   "metadata": {},
   "source": [
    "#### **Fancy Indexing**\n",
    "\n",
    "*Fancy indexing* è una tecnica che permette di selezione elementi di un array utilizzando array di indici interni."
   ]
  }
 ],
 "metadata": {
  "language_info": {
   "name": "python"
  }
 },
 "nbformat": 4,
 "nbformat_minor": 2
}
