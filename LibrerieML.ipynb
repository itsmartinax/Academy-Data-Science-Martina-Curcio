{
 "cells": [
  {
   "cell_type": "markdown",
   "metadata": {},
   "source": [
    "# **Librerie**"
   ]
  },
  {
   "cell_type": "markdown",
   "metadata": {},
   "source": [
    "## **Numpy**\n",
    "\n",
    "Numpy è una libreria fondamentale per il calcolo scientifico in Python."
   ]
  },
  {
   "cell_type": "markdown",
   "metadata": {},
   "source": [
    "### **Creazione Array**"
   ]
  },
  {
   "cell_type": "markdown",
   "metadata": {},
   "source": [
    "* `np.array()` crea un array NumPy a partire da una sequenza in input."
   ]
  },
  {
   "cell_type": "markdown",
   "metadata": {},
   "source": [
    "* `np.ones()` crea un array con tutti gli elementi uguali a 1 specificando la forma dell'array (numero di righe e colonne)."
   ]
  },
  {
   "cell_type": "markdown",
   "metadata": {},
   "source": [
    "* `np.zeros()` crea un array con tutti gli elementi uguali a 0 specificando la forma."
   ]
  },
  {
   "cell_type": "markdown",
   "metadata": {},
   "source": [
    "* `np.eye()` crea una matrice identità, dove gli elementi della diagonale principale sono 1 e tutti gli altri sono 0, specificando la dimensione della matrice."
   ]
  },
  {
   "cell_type": "markdown",
   "metadata": {},
   "source": [
    "* `np.arange(start:stop:step)` crea un array contenete una sequenza di numeri (simile a `range()` di Pyhton)."
   ]
  },
  {
   "cell_type": "markdown",
   "metadata": {},
   "source": [
    "* `np.linspace()`"
   ]
  },
  {
   "cell_type": "markdown",
   "metadata": {},
   "source": [
    "* `np.random()`"
   ]
  },
  {
   "cell_type": "markdown",
   "metadata": {},
   "source": [
    "### **Proprietà Array**"
   ]
  },
  {
   "cell_type": "markdown",
   "metadata": {},
   "source": [
    "* `np.dytipe()` specifica il tipo di dati contenuti nell'array"
   ]
  },
  {
   "cell_type": "markdown",
   "metadata": {},
   "source": [
    "* `np.shape()` restituisce una tupla che rappresenta le dimensioni dell'array"
   ]
  },
  {
   "cell_type": "markdown",
   "metadata": {},
   "source": [
    "* `np.reshape()` cambia la forma di un array senza modificarne i dati."
   ]
  },
  {
   "cell_type": "markdown",
   "metadata": {
    "vscode": {
     "languageId": "plaintext"
    }
   },
   "source": [
    "\n",
    "`np.ndim()`\n",
    "\n",
    "`np.sum()`\n",
    "`np.mean()`\n"
   ]
  },
  {
   "cell_type": "markdown",
   "metadata": {},
   "source": [
    "#### **Slicing**\n",
    "\n",
    "Lo *slicing* consente di estrarre una parte di array da un array più grande:\n",
    "```\n",
    "stringa[start:stop:step]\n",
    "```\n",
    "* `start` è l'indice da cui iniziare l'affettamento (inclusivo); se omesso, si inizia dall'inizio dell'array.\n",
    "* `stop` è l'indice a cui fermarsi (esclusivo); se omesso, si prosegue fino alla fine dell'array.\n",
    "* `step` è il passo tra gli indici; se omesso, il passo predefinito è 1."
   ]
  },
  {
   "cell_type": "markdown",
   "metadata": {},
   "source": [
    "#### **Fancy Indexing**\n",
    "\n",
    "*Fancy indexing* è una tecnica che permette di selezione elementi di un array utilizzando array di indici interni."
   ]
  },
  {
   "cell_type": "markdown",
   "metadata": {},
   "source": [
    "### **Funzioni Matematiche**"
   ]
  },
  {
   "cell_type": "markdown",
   "metadata": {},
   "source": [
    "* `sum()`"
   ]
  },
  {
   "cell_type": "markdown",
   "metadata": {},
   "source": [
    "* `mean()`"
   ]
  },
  {
   "cell_type": "markdown",
   "metadata": {},
   "source": [
    "* `std()`"
   ]
  }
 ],
 "metadata": {
  "language_info": {
   "name": "python"
  }
 },
 "nbformat": 4,
 "nbformat_minor": 2
}
