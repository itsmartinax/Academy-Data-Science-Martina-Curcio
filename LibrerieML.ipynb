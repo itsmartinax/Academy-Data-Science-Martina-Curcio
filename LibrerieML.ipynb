{
 "cells": [
  {
   "cell_type": "markdown",
   "metadata": {},
   "source": [
    "# **Librerie**"
   ]
  },
  {
   "cell_type": "markdown",
   "metadata": {},
   "source": [
    "## **Numpy**\n",
    "\n",
    "Numpy è una libreria fondamentale per il calcolo scientifico in Python."
   ]
  },
  {
   "cell_type": "code",
   "execution_count": 2,
   "metadata": {},
   "outputs": [],
   "source": [
    "import numpy as np"
   ]
  },
  {
   "cell_type": "markdown",
   "metadata": {},
   "source": [
    "### **Creazione Array**"
   ]
  },
  {
   "cell_type": "markdown",
   "metadata": {},
   "source": [
    "* `np.array()` crea un array NumPy a partire da una sequenza in input:"
   ]
  },
  {
   "cell_type": "markdown",
   "metadata": {},
   "source": [
    "* `np.ones()` crea un array con tutti gli elementi uguali a 1 specificando la forma dell'array (numero di righe e colonne):"
   ]
  },
  {
   "cell_type": "markdown",
   "metadata": {},
   "source": [
    "* `np.zeros()` crea un array con tutti gli elementi uguali a 0 specificando la forma.:"
   ]
  },
  {
   "cell_type": "markdown",
   "metadata": {},
   "source": [
    "* `np.eye()` crea una matrice identità, dove gli elementi della diagonale principale sono 1 e tutti gli altri sono 0, specificando la dimensione della matrice:"
   ]
  },
  {
   "cell_type": "markdown",
   "metadata": {},
   "source": [
    "* `np.arange(start:stop:step)` crea un array contenete una sequenza di numeri (simile a `range()` di Pyhton):\n",
    "\n",
    "    - `start` è valore iniziale (inclusivo); default è 0.\n",
    "    - `stop` è il valore finale (esclusivo).\n",
    "    - `step` differenza tra due valori consecutivi; default è 1."
   ]
  },
  {
   "cell_type": "code",
   "execution_count": null,
   "metadata": {},
   "outputs": [],
   "source": [
    "array = np.arange(2, 10, 2)\n",
    "print(array)"
   ]
  },
  {
   "cell_type": "markdown",
   "metadata": {},
   "source": [
    "* `np.linspace(start,stop,num)` genera un array di numeri equamente distanziati tra un valore iniziale e uno finale:\n",
    "\n",
    "    - `start`è valore iniziale (incluso).\n",
    "    - `stop`è Il valore finale (di default incluso).\n",
    "    - `num`è il numero di valori da generare."
   ]
  },
  {
   "cell_type": "code",
   "execution_count": null,
   "metadata": {},
   "outputs": [],
   "source": [
    "array = np.linspace(0, 10, 5)\n",
    "print(array)"
   ]
  },
  {
   "cell_type": "markdown",
   "metadata": {},
   "source": [
    "* `np.random` fornisce vari metodi per generare array con numeri casuali:\n",
    "\n",
    "    - `np.random.rand()` genera numeri casuali uniformemente distribuiti nell'intervallo $[0, 1)$ specificando le dimensioni.\n",
    "\n",
    "    - `np.random.randn()` genera numeri casuali normalmente distribuiti (distribuzione normale standard, media 0 e deviazione standard 1).\n",
    "\n",
    "    - `np.random.randint()` genera numeri interi casuali nell'intervallo specificato date le dimensioni; il limite superiore è esclusivo.\n",
    "\n",
    "    - `np.random.choice()` seleziona casualmente elementi da un array dato date le dimensioni.\n",
    "    \n",
    "    - `np.random.uniform()` genera numeri casuali uniformemente distribuiti in un intervallo specificato date le dimensioni."
   ]
  },
  {
   "cell_type": "code",
   "execution_count": null,
   "metadata": {},
   "outputs": [],
   "source": [
    "rand = np.random.rand(2, 3)\n",
    "print(rand)"
   ]
  },
  {
   "cell_type": "code",
   "execution_count": null,
   "metadata": {},
   "outputs": [],
   "source": [
    "randn = np.random.randn(2, 3)\n",
    "print(randn)"
   ]
  },
  {
   "cell_type": "code",
   "execution_count": null,
   "metadata": {},
   "outputs": [],
   "source": [
    "randint = np.random.randint(1, 100, size=(3, 3))\n",
    "print(randint)"
   ]
  },
  {
   "cell_type": "code",
   "execution_count": null,
   "metadata": {},
   "outputs": [],
   "source": [
    "choice = np.random.choice([1, 2, 3, 4, 5], size=3)\n",
    "print(choice)"
   ]
  },
  {
   "cell_type": "markdown",
   "metadata": {},
   "source": [
    "uniform = np.random.uniform(-1, 1, size=(2, 3))\n",
    "print(uniform)"
   ]
  },
  {
   "cell_type": "markdown",
   "metadata": {},
   "source": [
    "### **Proprietà Array**"
   ]
  },
  {
   "cell_type": "markdown",
   "metadata": {},
   "source": [
    "* `np.dytipe()` specifica il tipo di dati contenuti nell'array"
   ]
  },
  {
   "cell_type": "markdown",
   "metadata": {},
   "source": [
    "* `np.shape()` restituisce una tupla che rappresenta le dimensioni dell'array"
   ]
  },
  {
   "cell_type": "markdown",
   "metadata": {},
   "source": [
    "* `np.reshape()` cambia la forma di un array senza modificarne i dati."
   ]
  },
  {
   "cell_type": "markdown",
   "metadata": {
    "vscode": {
     "languageId": "plaintext"
    }
   },
   "source": [
    "* `np.ndim()`"
   ]
  },
  {
   "cell_type": "markdown",
   "metadata": {},
   "source": [
    "#### **Slicing**\n",
    "\n",
    "Lo *slicing* consente di estrarre una parte di array da un array più grande:\n",
    "```\n",
    "stringa[start:stop:step]\n",
    "```\n",
    "* `start` è l'indice da cui iniziare l'affettamento (inclusivo); se omesso, si inizia dall'inizio dell'array.\n",
    "* `stop` è l'indice a cui fermarsi (esclusivo); se omesso, si prosegue fino alla fine dell'array.\n",
    "* `step` è il passo tra gli indici; se omesso, il passo predefinito è 1."
   ]
  },
  {
   "cell_type": "markdown",
   "metadata": {},
   "source": [
    "#### **Fancy Indexing**\n",
    "\n",
    "*Fancy indexing* è una tecnica che permette di selezione elementi di un array utilizzando array di indici interni."
   ]
  },
  {
   "cell_type": "markdown",
   "metadata": {},
   "source": [
    "### **Funzioni Matematiche**"
   ]
  },
  {
   "cell_type": "markdown",
   "metadata": {},
   "source": [
    "* `np.sum()`"
   ]
  },
  {
   "cell_type": "markdown",
   "metadata": {},
   "source": [
    "* `np.mean()`"
   ]
  },
  {
   "cell_type": "markdown",
   "metadata": {},
   "source": [
    "* `np.std()`"
   ]
  },
  {
   "cell_type": "markdown",
   "metadata": {},
   "source": [
    "### **Algebra Lineare**\n",
    "NumPy include un modulo per l'algebra lineare `numpy.linalg`."
   ]
  },
  {
   "cell_type": "markdown",
   "metadata": {},
   "source": [
    "* `np.dot()`"
   ]
  },
  {
   "cell_type": "markdown",
   "metadata": {},
   "source": [
    "* `np.matmul()`"
   ]
  },
  {
   "cell_type": "markdown",
   "metadata": {},
   "source": [
    "* `np.linalg.det()`"
   ]
  },
  {
   "cell_type": "markdown",
   "metadata": {},
   "source": [
    "* `np.linalg.eig()`"
   ]
  },
  {
   "cell_type": "markdown",
   "metadata": {},
   "source": [
    "* `np.linalg.solve()`"
   ]
  },
  {
   "cell_type": "markdown",
   "metadata": {},
   "source": [
    "* `np.linalg.norm()`"
   ]
  },
  {
   "cell_type": "markdown",
   "metadata": {},
   "source": [
    "## **Pandas**\n",
    "Pandas è una libreria per Python per la manipolazione e l'analisi dei dati introducendo due strutture fondamentali:\n",
    "\n",
    "* **Dataframe**\n",
    "Sono una struttura dati bidimensionale composto da righe e colonne, dove ogni colonna può contenere dati di un tipo specifico.\n",
    "\n",
    "* **Series**\n",
    "Sono una struttura dati unidimensionale vista come una colonna di Dataframe. Ogni serie ha un solo tipo di dato."
   ]
  },
  {
   "cell_type": "code",
   "execution_count": 9,
   "metadata": {},
   "outputs": [],
   "source": [
    "import pandas as pd"
   ]
  },
  {
   "cell_type": "markdown",
   "metadata": {},
   "source": [
    "### **Creare un Dataframe**"
   ]
  },
  {
   "cell_type": "markdown",
   "metadata": {},
   "source": [
    "* `pd.read_csv() `"
   ]
  },
  {
   "cell_type": "markdown",
   "metadata": {},
   "source": [
    "* `pd.DataFrame()`"
   ]
  },
  {
   "cell_type": "code",
   "execution_count": null,
   "metadata": {},
   "outputs": [],
   "source": [
    "data = {\n",
    "    'Nome':['Martina','Alice','Carla'],\n",
    "    'Età':[25,30,22],\n",
    "    'Città':['Milano','Roma','Cosenza']\n",
    "}\n",
    "\n",
    "df=pd.DataFrame(data)\n",
    "\n",
    "print(df)"
   ]
  },
  {
   "cell_type": "markdown",
   "metadata": {},
   "source": [
    "### **Operazioni tra Dataframe**"
   ]
  },
  {
   "cell_type": "code",
   "execution_count": null,
   "metadata": {},
   "outputs": [],
   "source": [
    "# Dati di esempio\n",
    "data = {\n",
    "    'Data': ['2021-01-01', '2021-01-01', '2021-01-01', '2021-01-02', '2021-01-02'],\n",
    "    'Città': ['Roma', 'Milano', 'Napoli', 'Roma', 'Milano'],\n",
    "    'Prodotto': ['Mouse', 'Tastiera', 'Mouse', 'Tastiera', 'Mouse'],\n",
    "    'Vendite': [100, 200, 150, 300, 250]\n",
    "}\n",
    "\n",
    "# Creazione del DataFrame\n",
    "df = pd.DataFrame(data)\n",
    "print(df)"
   ]
  },
  {
   "cell_type": "markdown",
   "metadata": {},
   "source": [
    "* **Indicizzazione avanzata**: Pandas permette un'indicizzazione flessibile e sofisticata, facilitando l'accesso ai dati e la loro manipolazione. Per esempio, l'uso di indici gerarchici (MultiIndex) consente di lavorare con dati ad alta dimensionalità in strutture tabulari bidimensionali."
   ]
  },
  {
   "cell_type": "markdown",
   "metadata": {},
   "source": [
    "* **Unione e Concatenazione**: è possibile combinare\n",
    "facilmente diverse fonti di dati attraverso operazioni\n",
    "come merge per unire DataFrame simili a un join SQL, o\n",
    "concat per concatenare DataFrame lungo un asse specifico,\n",
    "gestendo anche indici che non si allinea."
   ]
  },
  {
   "cell_type": "markdown",
   "metadata": {},
   "source": [
    "* **Risistemazione e Pivot**: sono metodi potenti che permettono di trasformare i dati, facilitando la ristrutturazione e la creazione di tabelle pivot; questo è utile per riorganizzare i dati in un formato più appropriato per l'analisi specifica."
   ]
  },
  {
   "cell_type": "code",
   "execution_count": null,
   "metadata": {},
   "outputs": [],
   "source": [
    "# Creazione della tabella pivot\n",
    "pivot_df = df.pivot_table(values='Vendite', index='Prodotto', columns='Città', aggfunc='mean')\n",
    "\n",
    "# Stampa della tabella pivot\n",
    "print(pivot_df)"
   ]
  },
  {
   "cell_type": "markdown",
   "metadata": {},
   "source": [
    "* **GroupBy**: questa tecnica, ispirata da una funzionalità simile presente in SQL, permette di dividere i dati in gruppi, applicare una funzione a ciascun gruppo indipendentemente, e combinare i risultati in una struttura di dati; è estremamente utile per aggregazioni complesse, trasformazioni e filtraggi."
   ]
  },
  {
   "cell_type": "code",
   "execution_count": null,
   "metadata": {},
   "outputs": [],
   "source": [
    "# Utilizzo di groupby per aggregare i dati\n",
    "grouped_df = df.groupby('Prodotto').sum()\n",
    "\n",
    "# Stampa del DataFrame aggregato\n",
    "print(grouped_df)"
   ]
  },
  {
   "cell_type": "markdown",
   "metadata": {},
   "source": [
    "* **Gestione del tempo**: Pandas offre robuste funzionalità per la\n",
    "manipolazione delle serie temporali, che includono la generazione di\n",
    "periodi di tempo, la conversione di frequenze, il windowing o rolling\n",
    "statistics, e la manipolazione di date e orari."
   ]
  },
  {
   "cell_type": "markdown",
   "metadata": {},
   "source": [
    "### **Visualizzazione dei Dati**"
   ]
  },
  {
   "cell_type": "markdown",
   "metadata": {},
   "source": [
    "* `df.head()`"
   ]
  },
  {
   "cell_type": "markdown",
   "metadata": {},
   "source": [
    "* `df.tail()`"
   ]
  },
  {
   "cell_type": "markdown",
   "metadata": {},
   "source": [
    "### **Pulizia dei Dati**"
   ]
  },
  {
   "cell_type": "markdown",
   "metadata": {},
   "source": [
    "* `df.drop_duplicates()`"
   ]
  },
  {
   "cell_type": "markdown",
   "metadata": {},
   "source": [
    "* `df.dropna()`"
   ]
  },
  {
   "cell_type": "markdown",
   "metadata": {},
   "source": [
    "* `df[].fillna(,inplace=)`"
   ]
  },
  {
   "cell_type": "markdown",
   "metadata": {},
   "source": [
    "## **Librerie per Visualizzazione dei Dati**"
   ]
  },
  {
   "cell_type": "markdown",
   "metadata": {},
   "source": [
    "### **MatplotLib**"
   ]
  },
  {
   "cell_type": "code",
   "execution_count": 11,
   "metadata": {},
   "outputs": [],
   "source": [
    "import matplotlib.pyplot as plt"
   ]
  },
  {
   "cell_type": "markdown",
   "metadata": {},
   "source": [
    "* `plt.figure()` crea una *figure* cioè l'intera finestra di visualizzazione che può contenere una o più *axes*. "
   ]
  },
  {
   "cell_type": "markdown",
   "metadata": {},
   "source": [
    "* `fig.add_subplot()` aggiunge un *axes* cioè regioni della figura dove disegniamo i dati con un sistema di coordinate."
   ]
  },
  {
   "cell_type": "markdown",
   "metadata": {},
   "source": [
    "* `plt.title()` permette di dare un titolo alla figure."
   ]
  },
  {
   "cell_type": "markdown",
   "metadata": {},
   "source": [
    "* `plt.xlabel()`, `plt.ylabel('Y Axis')` permette di dare un nome agli assi."
   ]
  },
  {
   "cell_type": "markdown",
   "metadata": {},
   "source": [
    "* `plt.show()` permette di visualizzare il grafico creato."
   ]
  },
  {
   "cell_type": "markdown",
   "metadata": {},
   "source": [
    "* `plt.plot()` crea un grafico a linee dati $x$ e $y$."
   ]
  },
  {
   "cell_type": "code",
   "execution_count": 12,
   "metadata": {},
   "outputs": [
    {
     "data": {
      "image/png": "[encoded data removed]",
      "text/plain": [
       "<Figure size 640x480 with 1 Axes>"
      ]
     },
     "metadata": {},
     "output_type": "display_data"
    }
   ],
   "source": [
    "x = [1, 2, 3, 4, 5]\n",
    "y = [2, 3, 5, 7, 11]\n",
    "plt.figure()\n",
    "plt.plot(x, y)\n",
    "plt.title('Grafico a Linee')\n",
    "plt.xlabel('X Axis')\n",
    "plt.ylabel('Y Axis')\n",
    "plt.show()"
   ]
  },
  {
   "cell_type": "markdown",
   "metadata": {},
   "source": [
    "* `plt.bar()` crea un grafico a barre inserendo le categorie e i valori associati."
   ]
  },
  {
   "cell_type": "code",
   "execution_count": 13,
   "metadata": {},
   "outputs": [
    {
     "data": {
      "image/png": "[encoded data removed]",
      "text/plain": [
       "<Figure size 640x480 with 1 Axes>"
      ]
     },
     "metadata": {},
     "output_type": "display_data"
    }
   ],
   "source": [
    "categories = ['A','B','C','D','E']\n",
    "values = [3, 7, 2, 5, 8]\n",
    "\n",
    "plt.figure()\n",
    "plt.bar(categories, values)\n",
    "plt.title('Grafico a Barre')\n",
    "plt.xlabel('Categorie')\n",
    "plt.ylabel('Valori')\n",
    "plt.show()"
   ]
  },
  {
   "cell_type": "markdown",
   "metadata": {},
   "source": [
    "* `plt.hist()` permette di creare un istogramma inserendo i dati."
   ]
  },
  {
   "cell_type": "code",
   "execution_count": 17,
   "metadata": {},
   "outputs": [
    {
     "data": {
      "image/png": "[encoded data removed]",
      "text/plain": [
       "<Figure size 640x480 with 1 Axes>"
      ]
     },
     "metadata": {},
     "output_type": "display_data"
    }
   ],
   "source": [
    "import numpy as np\n",
    "\n",
    "data = np.random.randn(1000)\n",
    "\n",
    "plt.figure()\n",
    "plt.hist(data, bins=30, color='green')\n",
    "plt.title('Istogramma')\n",
    "plt.xlabel('Valori')\n",
    "plt.ylabel('Frequenza')\n",
    "plt.show()"
   ]
  },
  {
   "cell_type": "markdown",
   "metadata": {},
   "source": [
    "* `plt.scatter()` crea uno scatter plot a partire dai dati."
   ]
  },
  {
   "cell_type": "code",
   "execution_count": 16,
   "metadata": {},
   "outputs": [
    {
     "data": {
      "image/png": "[encoded data removed]",
      "text/plain": [
       "<Figure size 640x480 with 1 Axes>"
      ]
     },
     "metadata": {},
     "output_type": "display_data"
    }
   ],
   "source": [
    "import numpy as np\n",
    "\n",
    "x = np.random.rand(50)\n",
    "y = np.random.rand(50)\n",
    "\n",
    "plt.figure()\n",
    "plt.scatter(x, y, color='orange')\n",
    "plt.title('Scatter Plot')\n",
    "plt.xlabel('X Axis')\n",
    "plt.ylabel('Y Axis')\n",
    "plt.show()"
   ]
  },
  {
   "cell_type": "markdown",
   "metadata": {},
   "source": [
    "### **Seaborn**"
   ]
  },
  {
   "cell_type": "markdown",
   "metadata": {},
   "source": [
    "`sns.set_theme()` offre diversi temi predefiniti che possono essere utilizzati per migliorare l'estetica dei grafici"
   ]
  }
 ],
 "metadata": {
  "kernelspec": {
   "display_name": "Python 3",
   "language": "python",
   "name": "python3"
  },
  "language_info": {
   "codemirror_mode": {
    "name": "ipython",
    "version": 3
   },
   "file_extension": ".py",
   "mimetype": "text/x-python",
   "name": "python",
   "nbconvert_exporter": "python",
   "pygments_lexer": "ipython3",
   "version": "3.11.2"
  }
 },
 "nbformat": 4,
 "nbformat_minor": 2
}
